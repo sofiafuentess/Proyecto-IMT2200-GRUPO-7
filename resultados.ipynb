{
 "cells": [
  {
   "cell_type": "markdown",
   "metadata": {},
   "source": [
    "### 1. Contexto y motivación: describa el contexto y objetivos del proyecto, para una audiencia que no tiene información previa respecto a él. Incluya referencias, artículos o discusiones que le hayan servido de motivación.\n",
    "\n",
    "El acceso equitativo a la educación es una piedra angular para el avance socioeconómico en cualquier sociedad. Sin embargo, esta igualdad de oportunidades educativas se ve influida por múltiples factores que, a menudo, son subestimados. El transporte público emerge como un elemento crítico en la capacidad de los individuos para acceder a una educación de calidad. En muchas ocasiones, las instituciones educativas de excelencia se concentran en áreas urbanas, creando una brecha geográfica y económica que dificulta el acceso para estudiantes provenientes de zonas rurales o periféricas. Un sistema de transporte eficiente y accesible juega un papel fundamental al eliminar estas barreras, facilitando la asistencia regular a clases.\n",
    "\n",
    "Es esencial reconocer que el transporte público no solo implica llegar a la institución educativa, sino también acceder a recursos complementarios como bibliotecas, tutorías y actividades extracurriculares. La falta de acceso a estos recursos puede limitar el desarrollo académico de los estudiantes, independientemente de su potencial.\n",
    "\n",
    "En el contexto chileno, Santiago y Copiapó representan realidades contrastantes. Santiago, la capital, con su densa red de transporte público y recursos educativos concentrados, ofrece un acceso más accesible a una educación de calidad en comparación con Copiapó, una ciudad regional en el norte del país. Las diferencias geográficas y socioeconómicas entre estas ciudades presentan desafíos únicos para garantizar un acceso equitativo a la educación.\n",
    "\n",
    "En resumen, este proyecto tiene como objetivo examinar cómo la desigualdad en el acceso al transporte público afecta la educación en contextos tan distintos como Santiago y Copiapó, reconociendo las disparidades geográficas y socioeconómicas únicas en estas dos realidades chilenas."
   ]
  },
  {
   "cell_type": "markdown",
   "metadata": {},
   "source": [
    "### Preguntas objetivo: ¿cuáles son las preguntas que busca responder mediante su análisis? ¿Cómo han evolucionado sus preguntas a lo largo del proyecto, y si han aparecido otras nuevas en el camino?"
   ]
  },
  {
   "cell_type": "markdown",
   "metadata": {},
   "source": [
    "### 1. ¿Cómo afecta la desigualdad en el acceso al transporte público a la educación en dos contextos tan diversos como Santiago y Copiapó?\n",
    "\n",
    "La desigualdad en el acceso al transporte público tiene un impacto significativo en la educación, especialmente cuando comparamos contextos tan diversos como Santiago y Copiapó. Nuestro análisis reveló que, en general, la Región Metropolitana cuenta con un acceso más amplio al transporte público en comparación con regiones periféricas como Copiapó. Este hecho se fundamenta en la mayor concentración de colegios cercanos a paraderos en Santiago, detectado mediante nuestro análisis de KNN (vecinos más cercanos).\n",
    "\n",
    "La disponibilidad de colegios próximos a paraderos en Santiago crea un entorno más accesible para los estudiantes, facilitando su movilidad y contribuyendo a una mayor asistencia escolar en comparación con Copiapó. Nuestros datos indican una diferencia de aproximadamente un 10% en los niveles de asistencia entre Copiapó y la Región Metropolitana, lo que sugiere una correlación entre la accesibilidad al transporte público y la asistencia estudiantil.\n",
    "\n",
    "Esta discrepancia en la asistencia entre ambas regiones podría atribuirse a la infraestructura de transporte menos desarrollada en Copiapó, lo que impacta directamente en la capacidad de los estudiantes para acceder fácilmente a las instituciones educativas. La menor presencia de colegios cercanos a paraderos en Copiapó podría estar contribuyendo a esta brecha en la asistencia, lo que destaca la importancia crucial de la accesibilidad al transporte público para garantizar un acceso equitativo a la educación en diferentes regiones.\n"
   ]
  },
  {
   "cell_type": "markdown",
   "metadata": {},
   "source": [
    "\n",
    "### 2. ¿Cuál es la relación entre los factores socioeconómicos de las familias y su acceso al transporte público en Santiago y Copiapó, y cómo influye esto en la asistencia escolar de los estudiantes?\n"
   ]
  },
  {
   "cell_type": "markdown",
   "metadata": {},
   "source": [
    "\n",
    "### 3. ¿Existen diferencias significativas en el acceso al transporte público entre géneros en estas dos ciuades chilenas, y cómo se relaciona esta disparidad con el desempeño académico de los estudiantes?"
   ]
  },
  {
   "cell_type": "markdown",
   "metadata": {},
   "source": [
    "\n",
    "### 4. ¿Qué políticas públicas o intervenciones podrían ayudar a reducir la desigualdad en el acceso al transporte público y, en consecuencia, mejorar el acceso a la educación en Santiago y Copiapó, con un enfoque en la equidad de género y socioeconómica?\n",
    "\n",
    "Implementar medidas para expandir y mejorar la infraestructura de transporte público en Copiapó, incluyendo la ampliación de rutas, frecuencias y horarios de transporte. Esto podría incluir la creación de paraderos cercanos a más instituciones educativas, especialmente en áreas con acceso limitado en la ciudad.\n",
    "\n",
    "Establecer políticas de subsidios o tarifas reducidas para estudiantes de bajos ingresos en el transporte público, lo que aliviaría la carga económica asociada al desplazamiento hacia las escuelas. Esto podría promover la equidad socioeconómica en el acceso al transporte.\n",
    "\n",
    "Implementar programas de transporte escolar en áreas remotas o con acceso limitado al transporte público. Estos programas podrían garantizar la conectividad de los estudiantes a las instituciones educativas, especialmente en zonas menos accesibles.\n",
    "\n",
    "Diseñar estrategias que consideren las necesidades específicas de género en el acceso al transporte, como horarios flexibles que se ajusten a las responsabilidades familiares o programas de seguridad para garantizar entornos seguros de viaje para estudiantes de género femenino."
   ]
  },
  {
   "cell_type": "markdown",
   "metadata": {},
   "source": [
    "### 5. ¿Podemos predecir con precisión el rendimiento académico de los estudiantes en función de variablescomo el tiempo de viaje al colegio, la disponibilidad de transporte público y el género?\n",
    "\n",
    "\n",
    "La predicción precisa del rendimiento académico es un desafío complejo que no puede ser completamente capturado o explicado por factores tan limitados como el tiempo de viaje al colegio, la disponibilidad de transporte público o el género. Nuestro análisis detallado se ha centrado en estos elementos, y si bien son importantes, no han mostrado una relación evidente con el rendimiento académico en los promedios generales,quizás analisando más factores como el rendimiento por materia cursada, promedios simce o acceso a educación superor, se logra encontrar mejor informacion, pero solo analizando promedios generales no.\n",
    "\n",
    "Sin embargo, hemos encontrado algunas correlaciones entre la asistencia y el rendimiento estudiantil. Específicamente, observamos que el porcentaje de estudiantes que reprueban cursos tiende a estar asociado con una menor asistencia. Aquellos que reprueban cursos suelen tener niveles de asistencia notoriamente más bajos en comparación con aquellos que aprueban.\n",
    "\n",
    "Además, hemos identificado una relación entre la falta de acceso al transporte público y la asistencia escolar, especialmente en determinadas regiones como Copiapó. En estas áreas, hemos observado una disminución notable en los niveles de asistencia, lo que sugiere (aunque no confirma) una conexión entre la falta de acceso al transporte y la menor asistencia estudiantil.\n",
    "\n",
    "Estos hallazgos resaltan la complejidad del rendimiento académico, mostrando que factores como la asistencia y la disponibilidad de transporte es un factor importante para los estudiantes . Además, señalan la importancia de considerar múltiples variables y contextos específicos para comprender de manera más completa y precisa los factores que influyen en el rendimiento académico de los estudiantes."
   ]
  },
  {
   "cell_type": "markdown",
   "metadata": {},
   "source": [
    "\n",
    "\n",
    "### ¿Qué podría salir mal?: explique las posibles limitaciones o sesgos de sus datos o análisis. Identifique qué problemas se podrían generar a partir de su solución o de las decisiones que esta recomiende.\n",
    "\n",
    "Por una parte, es posible que existan lagunas en los datos, información incompleta sobre rutas de transporte, horarios, o datos demográficos de los estudiantes, por ejemplo es importante señalar que algunos colegios presentan datos de solo un estudiante. Esta situación puede introducir un sesgo considerable en el análisis, ya que los datos individuales de un solo estudiante pueden distorsionar las conclusiones al representar de manera desproporcionada el rendimiento o la asistencia de ese colegio en particular. \n",
    "\n",
    "Aunque identificamos una correlación entre la accesibilidad al transporte público y la asistencia/rendimiento estudiantil, no implica necesariamente una  relación causal directa. Podrían existir variables no consideradas que influyen en estos resultados, como el entorno familiar, la calidad de la educación o factores socioeconómicos no explorados.\n",
    "\n",
    "Podría ocurrir un sesgo de selección si los datos de copiapo y region metropolitana no son los suficientemente representativos de la realidad de todo chile, esto podría introducir un sesgo involuntario, dado que Los resultados obtenidos en un área geográfica específica que hemos escogido podrían no ser generalizable a otras regiones debido a diferencias culturales, infraestructura de transporte variada, políticas educativas distintas, entre otros factores.\n",
    "\n",
    "Por ultimo mencionar que Las condiciones de accesibilidad al transporte público pueden cambiar con el tiempo, así como los patrones de asistencia y rendimiento estudiantil. así que es importante actualizar los datos y considerar la variabilidad de los datos en el tiempo\n",
    "\n"
   ]
  }
 ],
 "metadata": {
  "language_info": {
   "name": "python"
  },
  "orig_nbformat": 4
 },
 "nbformat": 4,
 "nbformat_minor": 2
}
