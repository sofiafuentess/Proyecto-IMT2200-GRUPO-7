{
 "cells": [
  {
   "cell_type": "markdown",
   "metadata": {},
   "source": [
    "# Limpieza de datos de rendimiento escolar\n",
    "\n",
    "En este cuaderno de Jupyter, se limpiará los datos ligados al rendimiento académico escolar. \n",
    "\n",
    "El conjunto de datos utilizado en este análisis se encuentra en el archivo \"Rendimiento_Estudiante.csv\", el cual contiene información sobre el rendimiento de los estudiantes en diferentes escuelas de Chile. El conjunto de datos incluye información sobre el mes escolar, el RBD de la escuela, el RUN del alumno, el género del alumno, la fecha de nacimiento del alumno, la comuna del alumno, el promedio de notas y más."
   ]
  },
  {
   "cell_type": "markdown",
   "metadata": {},
   "source": [
    "## 1. Importación de librerías\n",
    "A continuación se importarán las librerías que se utilizarán en este cuaderno de Jupyter."
   ]
  },
  {
   "cell_type": "code",
   "execution_count": 1,
   "metadata": {},
   "outputs": [],
   "source": [
    "import pandas as pd"
   ]
  },
  {
   "cell_type": "markdown",
   "metadata": {},
   "source": [
    "## 2. Carga de datos\n",
    "A continuación se cargará el conjunto de datos que se utilizará en este cuaderno de Jupyter."
   ]
  },
  {
   "cell_type": "code",
   "execution_count": 2,
   "metadata": {},
   "outputs": [
    {
     "name": "stderr",
     "output_type": "stream",
     "text": [
      "/tmp/ipykernel_9861/1606141846.py:2: DtypeWarning: Columns (25) have mixed types. Specify dtype option on import or set low_memory=False.\n",
      "  df = pd.read_csv(data_path, sep=';')\n"
     ]
    }
   ],
   "source": [
    "data_path = 'data/Rendimiento_Estudiante.csv'\n",
    "df = pd.read_csv(data_path, sep=';')"
   ]
  },
  {
   "cell_type": "markdown",
   "metadata": {},
   "source": [
    "### 2.1 Columnas a utilizar\n",
    "Las columnas que utilizaremos en este cuaderno de Jupyter son las siguientes:\n",
    "- 'RBD': RBD de la escuela\n",
    "- 'MRUN': RUN del alumno\n",
    "- 'COD_JOR': Jornada en la que asiste a clases\n",
    "- 'PROM_GRAL': Promedio general anual del alumno\n",
    "- 'SIT_FIN_R': Situación de promoción al cierre del año escolar\n"
   ]
  },
  {
   "cell_type": "code",
   "execution_count": 3,
   "metadata": {},
   "outputs": [],
   "source": [
    "# Mantiene las columnas que se encuentran en la lista\n",
    "columns = ['RBD', 'MRUN', 'COD_JOR', 'PROM_GRAL', 'SIT_FIN_R']\n",
    "df = df[columns]"
   ]
  },
  {
   "cell_type": "code",
   "execution_count": 4,
   "metadata": {},
   "outputs": [
    {
     "name": "stdout",
     "output_type": "stream",
     "text": [
      "<class 'pandas.core.frame.DataFrame'>\n",
      "RangeIndex: 3405130 entries, 0 to 3405129\n",
      "Data columns (total 5 columns):\n",
      " #   Column     Dtype \n",
      "---  ------     ----- \n",
      " 0   RBD        int64 \n",
      " 1   MRUN       int64 \n",
      " 2   COD_JOR    int64 \n",
      " 3   PROM_GRAL  object\n",
      " 4   SIT_FIN_R  object\n",
      "dtypes: int64(3), object(2)\n",
      "memory usage: 129.9+ MB\n"
     ]
    }
   ],
   "source": [
    "df.info()"
   ]
  },
  {
   "cell_type": "markdown",
   "metadata": {},
   "source": [
    "## 3. Limpieza de datos\n",
    "A continuación se limpiará el conjunto de datos que se utilizará en este cuaderno de Jupyter."
   ]
  },
  {
   "cell_type": "markdown",
   "metadata": {},
   "source": [
    "### 3.1 Filtro de errores en los datos\n",
    "Ahora se eliminarán las filas que contengan errores o no posean sentido."
   ]
  },
  {
   "cell_type": "code",
   "execution_count": 5,
   "metadata": {},
   "outputs": [],
   "source": [
    "# Asegura que 'PROM_GRAL' no sea igual a 0 (Retirado)\n",
    "df = df[df['PROM_GRAL'] != 0]"
   ]
  },
  {
   "cell_type": "code",
   "execution_count": 6,
   "metadata": {},
   "outputs": [],
   "source": [
    "# Asegura que 'SIT_FIN_R' no posea información ' '\n",
    "df = df[df['SIT_FIN_R'] != ' ']"
   ]
  },
  {
   "cell_type": "code",
   "execution_count": 7,
   "metadata": {},
   "outputs": [],
   "source": [
    "# Elimina del dataframe las filas que contienen valores nulos o duplicados\n",
    "df = df.dropna()\n",
    "df = df.drop_duplicates()"
   ]
  },
  {
   "cell_type": "markdown",
   "metadata": {},
   "source": [
    "### 3.2 Asegurando el correcto tipo de datos\n",
    "Ahora aseguraremos que los datos se encuentren en el tipo de datos correcto"
   ]
  },
  {
   "cell_type": "code",
   "execution_count": 8,
   "metadata": {},
   "outputs": [
    {
     "name": "stdout",
     "output_type": "stream",
     "text": [
      "<class 'pandas.core.frame.DataFrame'>\n",
      "Int64Index: 3402268 entries, 0 to 3405129\n",
      "Data columns (total 5 columns):\n",
      " #   Column     Dtype \n",
      "---  ------     ----- \n",
      " 0   RBD        int64 \n",
      " 1   MRUN       int64 \n",
      " 2   COD_JOR    int64 \n",
      " 3   PROM_GRAL  object\n",
      " 4   SIT_FIN_R  object\n",
      "dtypes: int64(3), object(2)\n",
      "memory usage: 155.7+ MB\n"
     ]
    }
   ],
   "source": [
    "# Aseguramos que el tipo de datos correcto para todas las columnas\n",
    "df.info()"
   ]
  },
  {
   "cell_type": "markdown",
   "metadata": {},
   "source": [
    "### 3.3 Merge de datos\n",
    "Ahora se unirán los datos de los estudiantes con los datos de las escuelas."
   ]
  },
  {
   "cell_type": "code",
   "execution_count": 21,
   "metadata": {},
   "outputs": [],
   "source": [
    "# Abre el archivo 'asistencia.csv' y 'directorio.csv', y lo guarda en un dataframe\n",
    "df_asistencia = pd.read_csv('output_data/asistencia.csv', sep=',')\n",
    "df_directorio = pd.read_csv('output_data/directorio.csv', sep=',')"
   ]
  },
  {
   "cell_type": "code",
   "execution_count": 25,
   "metadata": {},
   "outputs": [],
   "source": [
    "schools_rbd = df_directorio['RBD'].is_unique\n",
    "\n",
    "# Elimina del dataframe las filas que no pertenecen a los RBDs de la lista\n",
    "df = df[df['RBD'].isin(df_directorio['RBD'])]"
   ]
  },
  {
   "cell_type": "code",
   "execution_count": 27,
   "metadata": {},
   "outputs": [],
   "source": [
    "students_run = df_asistencia['RUN_ALUMNO'].is_unique\n",
    "\n",
    "# Elimina del dataframe las filas que no pertenecen a los MRUNs de la lista\n",
    "df = df[df['MRUN'].isin(df_asistencia['RUN_ALUMNO'])]"
   ]
  },
  {
   "cell_type": "code",
   "execution_count": 28,
   "metadata": {},
   "outputs": [
    {
     "name": "stdout",
     "output_type": "stream",
     "text": [
      "<class 'pandas.core.frame.DataFrame'>\n",
      "Int64Index: 16794 entries, 128805 to 3401764\n",
      "Data columns (total 5 columns):\n",
      " #   Column     Non-Null Count  Dtype \n",
      "---  ------     --------------  ----- \n",
      " 0   RBD        16794 non-null  int64 \n",
      " 1   MRUN       16794 non-null  int64 \n",
      " 2   COD_JOR    16794 non-null  int64 \n",
      " 3   PROM_GRAL  16794 non-null  object\n",
      " 4   SIT_FIN_R  16794 non-null  object\n",
      "dtypes: int64(3), object(2)\n",
      "memory usage: 787.2+ KB\n"
     ]
    }
   ],
   "source": [
    "df.info()"
   ]
  },
  {
   "cell_type": "markdown",
   "metadata": {},
   "source": [
    "## 4. Cambio de nombre de columnas\n",
    "A continuación se cambiará el nombre de las columnas del conjunto de datos."
   ]
  },
  {
   "cell_type": "markdown",
   "metadata": {},
   "source": [
    "## 5. Exportación de datos\n",
    "Finalmente, se exportará el conjunto de datos limpio a un archivo csv."
   ]
  },
  {
   "cell_type": "code",
   "execution_count": 48,
   "metadata": {},
   "outputs": [],
   "source": [
    "# Export data\n",
    "df.to_csv('output_data/rendimiento_estudiantes.csv', index=False)"
   ]
  }
 ],
 "metadata": {
  "kernelspec": {
   "display_name": "Python 3",
   "language": "python",
   "name": "python3"
  },
  "language_info": {
   "codemirror_mode": {
    "name": "ipython",
    "version": 3
   },
   "file_extension": ".py",
   "mimetype": "text/x-python",
   "name": "python",
   "nbconvert_exporter": "python",
   "pygments_lexer": "ipython3",
   "version": "3.11.6"
  }
 },
 "nbformat": 4,
 "nbformat_minor": 2
}
