{
 "cells": [
  {
   "cell_type": "markdown",
   "metadata": {},
   "source": [
    "# Análisis Exploratorio de Datos\n",
    "\n",
    "Este notebook explora y analiza exhaustivamente un conjunto de datos mediante técnicas de análisis exploratorio. El análisis se centra en comprender la naturaleza, distribución y relaciones presentes en los datos, empleando visualizaciones, estadísticas descriptivas y técnicas de manipulación de datos.\n",
    "\n",
    "### Objetivos:\n",
    "- Explorar la estructura y contenido del conjunto de datos.\n",
    "- Identificar patrones, tendencias y posibles relaciones entre variables.\n",
    "\n",
    "\n",
    "### Contenido:\n",
    "1. **Exploración inicial:** Revisión de la estructura de datos, dimensiones y tipos de variables.\n",
    "2. **Análisis univariado:** Estudio de distribuciones, estadísticas descriptivas y visualizaciones de cada variable por separado.\n",
    "3. **Análisis bivariado:** Exploración de relaciones entre variables mediante gráficos de dispersión, correlaciones y tablas de contingencia.\n"
   ]
  },
  {
   "cell_type": "code",
   "execution_count": 2,
   "metadata": {},
   "outputs": [],
   "source": [
    "# importacion de librerias\n",
    "import numpy as np\n",
    "import pandas as pd\n",
    "import matplotlib.pyplot as plt \n",
    "import seaborn as sns"
   ]
  },
  {
   "cell_type": "code",
   "execution_count": 5,
   "metadata": {},
   "outputs": [],
   "source": [
    "# cargar los datos y definir un dataframe\n",
    "path= 'colegios.csv'\n",
    "df_colegios = pd.read_csv(path, sep=',')"
   ]
  },
  {
   "cell_type": "code",
   "execution_count": 7,
   "metadata": {},
   "outputs": [
    {
     "name": "stdout",
     "output_type": "stream",
     "text": [
      "<class 'pandas.core.frame.DataFrame'>\n",
      "RangeIndex: 717364 entries, 0 to 717363\n",
      "Data columns (total 10 columns):\n",
      " #   Column        Non-Null Count   Dtype  \n",
      "---  ------        --------------   -----  \n",
      " 0   RBD           717364 non-null  int64  \n",
      " 1   NOM_RBD       717364 non-null  object \n",
      " 2   COD_COM_RBD   717364 non-null  int64  \n",
      " 3   COD_DEPE2     717364 non-null  int64  \n",
      " 4   LATITUD       717364 non-null  float64\n",
      " 5   LONGITUD      717364 non-null  float64\n",
      " 6   MAT_TOTAL     717364 non-null  int64  \n",
      " 7   ESTADO_ESTAB  717364 non-null  int64  \n",
      " 8   ENS_01        717364 non-null  int64  \n",
      " 9   CONVENIO_SEP  717364 non-null  int64  \n",
      "dtypes: float64(2), int64(7), object(1)\n",
      "memory usage: 54.7+ MB\n"
     ]
    }
   ],
   "source": [
    "df_colegios.info()"
   ]
  },
  {
   "cell_type": "code",
   "execution_count": 9,
   "metadata": {},
   "outputs": [
    {
     "data": {
      "text/html": [
       "<div>\n",
       "<style scoped>\n",
       "    .dataframe tbody tr th:only-of-type {\n",
       "        vertical-align: middle;\n",
       "    }\n",
       "\n",
       "    .dataframe tbody tr th {\n",
       "        vertical-align: top;\n",
       "    }\n",
       "\n",
       "    .dataframe thead th {\n",
       "        text-align: right;\n",
       "    }\n",
       "</style>\n",
       "<table border=\"1\" class=\"dataframe\">\n",
       "  <thead>\n",
       "    <tr style=\"text-align: right;\">\n",
       "      <th></th>\n",
       "      <th>RBD</th>\n",
       "      <th>NOM_RBD</th>\n",
       "      <th>COD_COM_RBD</th>\n",
       "      <th>COD_DEPE2</th>\n",
       "      <th>LATITUD</th>\n",
       "      <th>LONGITUD</th>\n",
       "      <th>MAT_TOTAL</th>\n",
       "      <th>ESTADO_ESTAB</th>\n",
       "      <th>ENS_01</th>\n",
       "      <th>CONVENIO_SEP</th>\n",
       "    </tr>\n",
       "  </thead>\n",
       "  <tbody>\n",
       "    <tr>\n",
       "      <th>0</th>\n",
       "      <td>10763</td>\n",
       "      <td>ESCUELA CRISTAL CHILE</td>\n",
       "      <td>13604</td>\n",
       "      <td>1</td>\n",
       "      <td>-33.561953</td>\n",
       "      <td>-70.818988</td>\n",
       "      <td>396</td>\n",
       "      <td>1</td>\n",
       "      <td>10</td>\n",
       "      <td>1</td>\n",
       "    </tr>\n",
       "    <tr>\n",
       "      <th>1</th>\n",
       "      <td>10506</td>\n",
       "      <td>COLEGIO SENDA DEL SABER</td>\n",
       "      <td>13201</td>\n",
       "      <td>2</td>\n",
       "      <td>-33.580630</td>\n",
       "      <td>-70.607881</td>\n",
       "      <td>985</td>\n",
       "      <td>1</td>\n",
       "      <td>10</td>\n",
       "      <td>1</td>\n",
       "    </tr>\n",
       "    <tr>\n",
       "      <th>2</th>\n",
       "      <td>8492</td>\n",
       "      <td>LICEO MANUEL BARROS BORGONO</td>\n",
       "      <td>13101</td>\n",
       "      <td>1</td>\n",
       "      <td>-33.466963</td>\n",
       "      <td>-70.648888</td>\n",
       "      <td>745</td>\n",
       "      <td>1</td>\n",
       "      <td>110</td>\n",
       "      <td>1</td>\n",
       "    </tr>\n",
       "    <tr>\n",
       "      <th>3</th>\n",
       "      <td>9780</td>\n",
       "      <td>COLEGIO TENIENTE DAGOBERTO GODOY</td>\n",
       "      <td>13105</td>\n",
       "      <td>2</td>\n",
       "      <td>-33.559746</td>\n",
       "      <td>-70.658111</td>\n",
       "      <td>1225</td>\n",
       "      <td>1</td>\n",
       "      <td>10</td>\n",
       "      <td>1</td>\n",
       "    </tr>\n",
       "    <tr>\n",
       "      <th>4</th>\n",
       "      <td>10491</td>\n",
       "      <td>ESCUELA SANTA JOAQUINA DE VEDRUNA</td>\n",
       "      <td>13201</td>\n",
       "      <td>2</td>\n",
       "      <td>-33.603713</td>\n",
       "      <td>-70.573368</td>\n",
       "      <td>1031</td>\n",
       "      <td>1</td>\n",
       "      <td>10</td>\n",
       "      <td>1</td>\n",
       "    </tr>\n",
       "  </tbody>\n",
       "</table>\n",
       "</div>"
      ],
      "text/plain": [
       "     RBD                            NOM_RBD  COD_COM_RBD  COD_DEPE2  \\\n",
       "0  10763              ESCUELA CRISTAL CHILE        13604          1   \n",
       "1  10506            COLEGIO SENDA DEL SABER        13201          2   \n",
       "2   8492        LICEO MANUEL BARROS BORGONO        13101          1   \n",
       "3   9780   COLEGIO TENIENTE DAGOBERTO GODOY        13105          2   \n",
       "4  10491  ESCUELA SANTA JOAQUINA DE VEDRUNA        13201          2   \n",
       "\n",
       "     LATITUD   LONGITUD  MAT_TOTAL  ESTADO_ESTAB  ENS_01  CONVENIO_SEP  \n",
       "0 -33.561953 -70.818988        396             1      10             1  \n",
       "1 -33.580630 -70.607881        985             1      10             1  \n",
       "2 -33.466963 -70.648888        745             1     110             1  \n",
       "3 -33.559746 -70.658111       1225             1      10             1  \n",
       "4 -33.603713 -70.573368       1031             1      10             1  "
      ]
     },
     "execution_count": 9,
     "metadata": {},
     "output_type": "execute_result"
    }
   ],
   "source": [
    "df_colegios.head()"
   ]
  },
  {
   "cell_type": "code",
   "execution_count": null,
   "metadata": {},
   "outputs": [],
   "source": []
  }
 ],
 "metadata": {
  "kernelspec": {
   "display_name": "base",
   "language": "python",
   "name": "python3"
  },
  "language_info": {
   "codemirror_mode": {
    "name": "ipython",
    "version": 3
   },
   "file_extension": ".py",
   "mimetype": "text/x-python",
   "name": "python",
   "nbconvert_exporter": "python",
   "pygments_lexer": "ipython3",
   "version": "3.11.4"
  },
  "orig_nbformat": 4
 },
 "nbformat": 4,
 "nbformat_minor": 2
}
