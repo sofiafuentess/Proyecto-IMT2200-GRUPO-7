{
 "cells": [
  {
   "cell_type": "markdown",
   "metadata": {},
   "source": [
    "# Limpieza de datos de Alumnos Prioritarios, Preferentes y/o Beneficiarios (SEP)\n",
    "\n",
    "En este notebook se realizará la limpieza de los datos del esquema de registro de Alumnos Prioritarios, Preferentes y/o Beneficiarios (SEP) de colegios en Chile."
   ]
  },
  {
   "cell_type": "markdown",
   "metadata": {},
   "source": [
    "## 1. Importación de librerías\n",
    "A continuación, se importan las librerías que se utilizarán en el notebook."
   ]
  },
  {
   "cell_type": "code",
   "execution_count": 18,
   "metadata": {},
   "outputs": [],
   "source": [
    "import os \n",
    "import pandas as pd "
   ]
  },
  {
   "cell_type": "markdown",
   "metadata": {},
   "source": [
    "## 2. Carga de datos\n",
    "Se cargan los datos de los alumnos prioritarios, preferentes y/o beneficiarios."
   ]
  },
  {
   "cell_type": "code",
   "execution_count": 19,
   "metadata": {},
   "outputs": [
    {
     "name": "stderr",
     "output_type": "stream",
     "text": [
      "/tmp/ipykernel_11652/1471849577.py:1: DtypeWarning: Columns (2) have mixed types. Specify dtype option on import or set low_memory=False.\n",
      "  df = pd.read_csv('../data/SEP.csv', sep=';')\n"
     ]
    }
   ],
   "source": [
    "df = pd.read_csv('../data/SEP.csv', sep=';')"
   ]
  },
  {
   "cell_type": "markdown",
   "metadata": {},
   "source": [
    "### 2.1 Columnas a utilizar\n",
    "Se seleccionan las columnas que se utilizarán en el análisis.\n"
   ]
  },
  {
   "cell_type": "code",
   "execution_count": 20,
   "metadata": {},
   "outputs": [],
   "source": [
    "columns = ['MRUN', 'RBD', 'CONVENIO_SEP', 'COD_COM_RBD', 'COD_REG_RBD', 'BEN_SEP', 'CRITERIO_SEP', 'PREFERENTE_ALU', 'PRIORITARIO_ALU']\n",
    "df = df[columns]"
   ]
  },
  {
   "cell_type": "code",
   "execution_count": 21,
   "metadata": {},
   "outputs": [
    {
     "data": {
      "text/html": [
       "<div>\n",
       "<style scoped>\n",
       "    .dataframe tbody tr th:only-of-type {\n",
       "        vertical-align: middle;\n",
       "    }\n",
       "\n",
       "    .dataframe tbody tr th {\n",
       "        vertical-align: top;\n",
       "    }\n",
       "\n",
       "    .dataframe thead th {\n",
       "        text-align: right;\n",
       "    }\n",
       "</style>\n",
       "<table border=\"1\" class=\"dataframe\">\n",
       "  <thead>\n",
       "    <tr style=\"text-align: right;\">\n",
       "      <th></th>\n",
       "      <th>MRUN</th>\n",
       "      <th>RBD</th>\n",
       "      <th>CONVENIO_SEP</th>\n",
       "      <th>COD_COM_RBD</th>\n",
       "      <th>COD_REG_RBD</th>\n",
       "      <th>BEN_SEP</th>\n",
       "      <th>CRITERIO_SEP</th>\n",
       "      <th>PREFERENTE_ALU</th>\n",
       "      <th>PRIORITARIO_ALU</th>\n",
       "    </tr>\n",
       "  </thead>\n",
       "  <tbody>\n",
       "    <tr>\n",
       "      <th>0</th>\n",
       "      <td>25</td>\n",
       "      <td></td>\n",
       "      <td>0</td>\n",
       "      <td></td>\n",
       "      <td></td>\n",
       "      <td>0</td>\n",
       "      <td>0</td>\n",
       "      <td>1</td>\n",
       "      <td>0</td>\n",
       "    </tr>\n",
       "    <tr>\n",
       "      <th>1</th>\n",
       "      <td>31</td>\n",
       "      <td>10763</td>\n",
       "      <td>1</td>\n",
       "      <td>13604</td>\n",
       "      <td>13</td>\n",
       "      <td>1</td>\n",
       "      <td>1</td>\n",
       "      <td>0</td>\n",
       "      <td>1</td>\n",
       "    </tr>\n",
       "    <tr>\n",
       "      <th>2</th>\n",
       "      <td>47</td>\n",
       "      <td>11240</td>\n",
       "      <td>0</td>\n",
       "      <td>5502</td>\n",
       "      <td>5</td>\n",
       "      <td>0</td>\n",
       "      <td>2</td>\n",
       "      <td>0</td>\n",
       "      <td>1</td>\n",
       "    </tr>\n",
       "    <tr>\n",
       "      <th>3</th>\n",
       "      <td>48</td>\n",
       "      <td>20364</td>\n",
       "      <td>1</td>\n",
       "      <td>6101</td>\n",
       "      <td>6</td>\n",
       "      <td>1</td>\n",
       "      <td>2</td>\n",
       "      <td>0</td>\n",
       "      <td>1</td>\n",
       "    </tr>\n",
       "    <tr>\n",
       "      <th>4</th>\n",
       "      <td>86</td>\n",
       "      <td>3998</td>\n",
       "      <td>1</td>\n",
       "      <td>16107</td>\n",
       "      <td>16</td>\n",
       "      <td>1</td>\n",
       "      <td>1</td>\n",
       "      <td>0</td>\n",
       "      <td>1</td>\n",
       "    </tr>\n",
       "    <tr>\n",
       "      <th>5</th>\n",
       "      <td>87</td>\n",
       "      <td>18237</td>\n",
       "      <td>1</td>\n",
       "      <td>8108</td>\n",
       "      <td>8</td>\n",
       "      <td>0</td>\n",
       "      <td>0</td>\n",
       "      <td>1</td>\n",
       "      <td>0</td>\n",
       "    </tr>\n",
       "    <tr>\n",
       "      <th>6</th>\n",
       "      <td>88</td>\n",
       "      <td>10506</td>\n",
       "      <td>1</td>\n",
       "      <td>13201</td>\n",
       "      <td>13</td>\n",
       "      <td>1</td>\n",
       "      <td>0</td>\n",
       "      <td>1</td>\n",
       "      <td>0</td>\n",
       "    </tr>\n",
       "    <tr>\n",
       "      <th>7</th>\n",
       "      <td>89</td>\n",
       "      <td>2308</td>\n",
       "      <td>0</td>\n",
       "      <td>6115</td>\n",
       "      <td>6</td>\n",
       "      <td>0</td>\n",
       "      <td>0</td>\n",
       "      <td>1</td>\n",
       "      <td>0</td>\n",
       "    </tr>\n",
       "    <tr>\n",
       "      <th>8</th>\n",
       "      <td>115</td>\n",
       "      <td>17763</td>\n",
       "      <td>1</td>\n",
       "      <td>8203</td>\n",
       "      <td>8</td>\n",
       "      <td>1</td>\n",
       "      <td>2</td>\n",
       "      <td>0</td>\n",
       "      <td>1</td>\n",
       "    </tr>\n",
       "    <tr>\n",
       "      <th>9</th>\n",
       "      <td>116</td>\n",
       "      <td>8492</td>\n",
       "      <td>1</td>\n",
       "      <td>13101</td>\n",
       "      <td>13</td>\n",
       "      <td>1</td>\n",
       "      <td>2</td>\n",
       "      <td>0</td>\n",
       "      <td>1</td>\n",
       "    </tr>\n",
       "  </tbody>\n",
       "</table>\n",
       "</div>"
      ],
      "text/plain": [
       "   MRUN    RBD  CONVENIO_SEP COD_COM_RBD COD_REG_RBD  BEN_SEP  CRITERIO_SEP  \\\n",
       "0    25                    0                                0             0   \n",
       "1    31  10763             1       13604          13        1             1   \n",
       "2    47  11240             0        5502           5        0             2   \n",
       "3    48  20364             1        6101           6        1             2   \n",
       "4    86   3998             1       16107          16        1             1   \n",
       "5    87  18237             1        8108           8        0             0   \n",
       "6    88  10506             1       13201          13        1             0   \n",
       "7    89   2308             0        6115           6        0             0   \n",
       "8   115  17763             1        8203           8        1             2   \n",
       "9   116   8492             1       13101          13        1             2   \n",
       "\n",
       "   PREFERENTE_ALU  PRIORITARIO_ALU  \n",
       "0               1                0  \n",
       "1               0                1  \n",
       "2               0                1  \n",
       "3               0                1  \n",
       "4               0                1  \n",
       "5               1                0  \n",
       "6               1                0  \n",
       "7               1                0  \n",
       "8               0                1  \n",
       "9               0                1  "
      ]
     },
     "execution_count": 21,
     "metadata": {},
     "output_type": "execute_result"
    }
   ],
   "source": [
    "df.head(10)"
   ]
  },
  {
   "cell_type": "code",
   "execution_count": 22,
   "metadata": {},
   "outputs": [
    {
     "name": "stdout",
     "output_type": "stream",
     "text": [
      "<class 'pandas.core.frame.DataFrame'>\n",
      "RangeIndex: 2999491 entries, 0 to 2999490\n",
      "Data columns (total 9 columns):\n",
      " #   Column           Dtype \n",
      "---  ------           ----- \n",
      " 0   MRUN             int64 \n",
      " 1   RBD              object\n",
      " 2   CONVENIO_SEP     int64 \n",
      " 3   COD_COM_RBD      object\n",
      " 4   COD_REG_RBD      object\n",
      " 5   BEN_SEP          int64 \n",
      " 6   CRITERIO_SEP     int64 \n",
      " 7   PREFERENTE_ALU   int64 \n",
      " 8   PRIORITARIO_ALU  int64 \n",
      "dtypes: int64(6), object(3)\n",
      "memory usage: 206.0+ MB\n"
     ]
    }
   ],
   "source": [
    "df.info()"
   ]
  },
  {
   "cell_type": "markdown",
   "metadata": {},
   "source": [
    "### 2.2 Data Cleaning\n",
    "A continuación, se realiza la limpieza de los datos."
   ]
  },
  {
   "cell_type": "code",
   "execution_count": 23,
   "metadata": {},
   "outputs": [],
   "source": [
    "# Asegura que no existan valores repetidos o nulos\n",
    "df.drop_duplicates(inplace=True)\n",
    "df.dropna(inplace=True)"
   ]
  },
  {
   "cell_type": "code",
   "execution_count": 24,
   "metadata": {},
   "outputs": [
    {
     "name": "stdout",
     "output_type": "stream",
     "text": [
      "All tests passed!\n"
     ]
    }
   ],
   "source": [
    "def verificar_valores_atipicos(df, column):\n",
    "    '''\n",
    "    Verifica si hay valores atípicos en una columna de un dataframe.\n",
    "\n",
    "    Parameters:\n",
    "    - df (DataFrame): dataframe\n",
    "    - column (str): nombre de la columna\n",
    "\n",
    "    Returns:\n",
    "    - resultado (bool): True si hay valores atípicos, False si no los hay.  \n",
    "    '''\n",
    "    hay_valor_distinto = (df[column] != 0) & (df[column] != 1)\n",
    "    resultado = hay_valor_distinto.any()\n",
    "    return resultado\n",
    "\n",
    "# Test case: No valores atípicos\n",
    "assert verificar_valores_atipicos(df, 'BEN_SEP') == False\n",
    "assert verificar_valores_atipicos(df, 'PREFERENTE_ALU') == False\n",
    "assert verificar_valores_atipicos(df, 'PRIORITARIO_ALU') == False\n",
    "\n",
    "print(\"All tests passed!\")\n"
   ]
  },
  {
   "cell_type": "markdown",
   "metadata": {},
   "source": [
    "### 2.3 Cambio de tipo de datos\n",
    "Se cambia el tipo de datos de las columnas que lo requieran."
   ]
  },
  {
   "cell_type": "code",
   "execution_count": 26,
   "metadata": {},
   "outputs": [],
   "source": [
    "# RBD, COD_COM_RBD, COD_REG_RBD deben ser int\n",
    "# Primero, descartamos las filas con '' o ' '\n",
    "df = df[(df['RBD'] != '') & (df['RBD'] != ' ')]\n",
    "df = df[(df['COD_COM_RBD'] != '') & (df['COD_COM_RBD'] != ' ')]\n",
    "df = df[(df['COD_REG_RBD'] != '') & (df['COD_REG_RBD'] != ' ')]\n",
    "\n",
    "# Luego, convertimos a int\n",
    "df['RBD'] = df['RBD'].astype(int)\n",
    "df['COD_COM_RBD'] = df['COD_COM_RBD'].astype(int)\n",
    "df['COD_REG_RBD'] = df['COD_REG_RBD'].astype(int)"
   ]
  },
  {
   "cell_type": "code",
   "execution_count": 27,
   "metadata": {},
   "outputs": [
    {
     "name": "stdout",
     "output_type": "stream",
     "text": [
      "<class 'pandas.core.frame.DataFrame'>\n",
      "Int64Index: 2668203 entries, 1 to 2994793\n",
      "Data columns (total 9 columns):\n",
      " #   Column           Dtype\n",
      "---  ------           -----\n",
      " 0   MRUN             int64\n",
      " 1   RBD              int64\n",
      " 2   CONVENIO_SEP     int64\n",
      " 3   COD_COM_RBD      int64\n",
      " 4   COD_REG_RBD      int64\n",
      " 5   BEN_SEP          int64\n",
      " 6   CRITERIO_SEP     int64\n",
      " 7   PREFERENTE_ALU   int64\n",
      " 8   PRIORITARIO_ALU  int64\n",
      "dtypes: int64(9)\n",
      "memory usage: 203.6 MB\n"
     ]
    }
   ],
   "source": [
    "df.info()"
   ]
  },
  {
   "cell_type": "code",
   "execution_count": 28,
   "metadata": {},
   "outputs": [],
   "source": [
    "# En estas lineas trataremos la legibilidad de nuestros datos, modificando nombres de variables \n",
    "\n",
    "# Reemplazar los valores en la columna 'PRIORITARIO_ALU'\n",
    "# df_PPB['PRIORITARIO_ALU'] = df_PPB['PRIORITARIO_ALU'].replace({0: 'No prioritario', 1: 'prioritario'})\n",
    "# Reemplazar los valores en la columna 'PREFERENTE_ALU'\n",
    "# df_PPB['PREFERENTE_ALU'] = df_PPB['PREFERENTE_ALU'].replace({0: 'No preferente', 1: 'Preferente'})\n",
    "# Reemplazar los valores en la columna 'BEN_SEP'\n",
    "# df_PPB['BEN_SEP'] = df_PPB['BEN_SEP'].replace({0: 'No beneficiario SEP', 1: 'Beneficiario SEP'})"
   ]
  },
  {
   "cell_type": "markdown",
   "metadata": {},
   "source": [
    "## 3. Filtro de datos\n",
    "Ahora realizaremos el filtro de los datos para quedarnos con los alumnos prioritarios, preferentes y/o beneficiarios pertenecientes al dataset limpio de 'asistencia.csv'."
   ]
  },
  {
   "cell_type": "code",
   "execution_count": 29,
   "metadata": {},
   "outputs": [],
   "source": [
    "df_asistencia = pd.read_csv('output_data/asistencia.csv', sep=',')"
   ]
  },
  {
   "cell_type": "code",
   "execution_count": 30,
   "metadata": {},
   "outputs": [],
   "source": [
    "# Elimina del dataframe las filas que no pertenecen a los MRUNs de la lista\n",
    "df = df[df['MRUN'].isin(df_asistencia['RUN_ALUMNO'])]"
   ]
  },
  {
   "cell_type": "code",
   "execution_count": 31,
   "metadata": {},
   "outputs": [],
   "source": [
    "# Elimina del dataframe las filas que no pertenecen a los RBDs de la lista\n",
    "df = df[df['RBD'].isin(df_asistencia['RBD'])]"
   ]
  },
  {
   "cell_type": "code",
   "execution_count": 32,
   "metadata": {},
   "outputs": [
    {
     "data": {
      "text/html": [
       "<div>\n",
       "<style scoped>\n",
       "    .dataframe tbody tr th:only-of-type {\n",
       "        vertical-align: middle;\n",
       "    }\n",
       "\n",
       "    .dataframe tbody tr th {\n",
       "        vertical-align: top;\n",
       "    }\n",
       "\n",
       "    .dataframe thead th {\n",
       "        text-align: right;\n",
       "    }\n",
       "</style>\n",
       "<table border=\"1\" class=\"dataframe\">\n",
       "  <thead>\n",
       "    <tr style=\"text-align: right;\">\n",
       "      <th></th>\n",
       "      <th>MRUN</th>\n",
       "      <th>RBD</th>\n",
       "      <th>CONVENIO_SEP</th>\n",
       "      <th>COD_COM_RBD</th>\n",
       "      <th>COD_REG_RBD</th>\n",
       "      <th>BEN_SEP</th>\n",
       "      <th>CRITERIO_SEP</th>\n",
       "      <th>PREFERENTE_ALU</th>\n",
       "      <th>PRIORITARIO_ALU</th>\n",
       "    </tr>\n",
       "  </thead>\n",
       "  <tbody>\n",
       "    <tr>\n",
       "      <th>9</th>\n",
       "      <td>116</td>\n",
       "      <td>8492</td>\n",
       "      <td>1</td>\n",
       "      <td>13101</td>\n",
       "      <td>13</td>\n",
       "      <td>1</td>\n",
       "      <td>2</td>\n",
       "      <td>0</td>\n",
       "      <td>1</td>\n",
       "    </tr>\n",
       "    <tr>\n",
       "      <th>17</th>\n",
       "      <td>171</td>\n",
       "      <td>9780</td>\n",
       "      <td>1</td>\n",
       "      <td>13105</td>\n",
       "      <td>13</td>\n",
       "      <td>1</td>\n",
       "      <td>0</td>\n",
       "      <td>1</td>\n",
       "      <td>0</td>\n",
       "    </tr>\n",
       "    <tr>\n",
       "      <th>35</th>\n",
       "      <td>292</td>\n",
       "      <td>24685</td>\n",
       "      <td>1</td>\n",
       "      <td>13106</td>\n",
       "      <td>13</td>\n",
       "      <td>1</td>\n",
       "      <td>0</td>\n",
       "      <td>1</td>\n",
       "      <td>0</td>\n",
       "    </tr>\n",
       "    <tr>\n",
       "      <th>41</th>\n",
       "      <td>360</td>\n",
       "      <td>11818</td>\n",
       "      <td>1</td>\n",
       "      <td>13105</td>\n",
       "      <td>13</td>\n",
       "      <td>1</td>\n",
       "      <td>1</td>\n",
       "      <td>0</td>\n",
       "      <td>1</td>\n",
       "    </tr>\n",
       "    <tr>\n",
       "      <th>42</th>\n",
       "      <td>378</td>\n",
       "      <td>25279</td>\n",
       "      <td>1</td>\n",
       "      <td>13119</td>\n",
       "      <td>13</td>\n",
       "      <td>1</td>\n",
       "      <td>0</td>\n",
       "      <td>1</td>\n",
       "      <td>0</td>\n",
       "    </tr>\n",
       "  </tbody>\n",
       "</table>\n",
       "</div>"
      ],
      "text/plain": [
       "    MRUN    RBD  CONVENIO_SEP  COD_COM_RBD  COD_REG_RBD  BEN_SEP  \\\n",
       "9    116   8492             1        13101           13        1   \n",
       "17   171   9780             1        13105           13        1   \n",
       "35   292  24685             1        13106           13        1   \n",
       "41   360  11818             1        13105           13        1   \n",
       "42   378  25279             1        13119           13        1   \n",
       "\n",
       "    CRITERIO_SEP  PREFERENTE_ALU  PRIORITARIO_ALU  \n",
       "9              2               0                1  \n",
       "17             0               1                0  \n",
       "35             0               1                0  \n",
       "41             1               0                1  \n",
       "42             0               1                0  "
      ]
     },
     "execution_count": 32,
     "metadata": {},
     "output_type": "execute_result"
    }
   ],
   "source": [
    "df.head()"
   ]
  },
  {
   "cell_type": "markdown",
   "metadata": {},
   "source": [
    "## 4. Exportación de datos\n",
    "Finalmente, se exporta el dataset limpio de alumnos prioritarios, preferentes y/o beneficiarios."
   ]
  },
  {
   "cell_type": "code",
   "execution_count": 33,
   "metadata": {},
   "outputs": [],
   "source": [
    "df.to_csv('output_data/SEP.csv', index=False)"
   ]
  }
 ],
 "metadata": {
  "kernelspec": {
   "display_name": "Python 3 (ipykernel)",
   "language": "python",
   "name": "python3"
  },
  "language_info": {
   "codemirror_mode": {
    "name": "ipython",
    "version": 3
   },
   "file_extension": ".py",
   "mimetype": "text/x-python",
   "name": "python",
   "nbconvert_exporter": "python",
   "pygments_lexer": "ipython3",
   "version": "3.11.6"
  }
 },
 "nbformat": 4,
 "nbformat_minor": 2
}
