{
 "cells": [
  {
   "cell_type": "markdown",
   "metadata": {},
   "source": [
    "# Directorio Oficial de Establecimientos\n",
    "En este Jupyter Notebook, se limpia el directorio oficial de establecimientos, para que pueda ser utilizado en el análisis de datos.\n",
    "\n",
    "Este dataset contiene información de los establecimientos educacionales de Chile, incluyendo su ubicación, tipo de establecimiento, etc."
   ]
  },
  {
   "cell_type": "markdown",
   "metadata": {},
   "source": [
    "## 1. Importar librerías\n",
    "A continuación, se importan las librerías que se utilizarán en el Jupyter Notebook."
   ]
  },
  {
   "cell_type": "code",
   "execution_count": 4,
   "metadata": {},
   "outputs": [],
   "source": [
    "import pandas as pd"
   ]
  },
  {
   "cell_type": "markdown",
   "metadata": {},
   "source": [
    "## 2. Cargar datos\n",
    "Se cargan los datos desde el archivo `Directorio.csv` y se guardan en un DataFrame de pandas."
   ]
  },
  {
   "cell_type": "code",
   "execution_count": 5,
   "metadata": {},
   "outputs": [],
   "source": [
    "data_path = 'data/Directorio.csv'\n",
    "df = pd.read_csv(data_path, sep=';')"
   ]
  },
  {
   "cell_type": "markdown",
   "metadata": {},
   "source": [
    "### 2.1 Columnas a utilizar\n",
    "Las columnas que utilizaremos en este cuaderno de Jupyter son las siguientes:\n",
    "- `RBD`: Rol Base de Datos\n",
    "- `NOM_RBD`: Nombre del establecimiento\n",
    "- `COD_COM_RBD`: Código de la comuna\n",
    "- `COD_DEPE2`: Código de dependencia (agrupado)\n",
    "- `LATITUD`: Latitud\n",
    "- `LONGITUD`: Longitud\n",
    "- `MAT_TOTAL`: Matrícula total\n",
    "- `ESTADO_ESTAB`: Estado del establecimiento\n",
    "- `ENS_01`: Código de enseñanza 01*\n",
    "\n",
    "* Esta columna posee información relevante que podría servir a futuro."
   ]
  },
  {
   "cell_type": "code",
   "execution_count": 6,
   "metadata": {},
   "outputs": [],
   "source": [
    "# Mantiene las columnas que se encuentran en la lista\n",
    "columns = ['RBD', 'NOM_RBD', 'COD_COM_RBD', 'COD_DEPE2', 'LATITUD', 'LONGITUD', 'MAT_TOTAL', 'ESTADO_ESTAB', 'ENS_01']\n",
    "df = df[columns]"
   ]
  },
  {
   "cell_type": "code",
   "execution_count": 7,
   "metadata": {},
   "outputs": [
    {
     "name": "stdout",
     "output_type": "stream",
     "text": [
      "<class 'pandas.core.frame.DataFrame'>\n",
      "RangeIndex: 16601 entries, 0 to 16600\n",
      "Data columns (total 9 columns):\n",
      " #   Column        Non-Null Count  Dtype \n",
      "---  ------        --------------  ----- \n",
      " 0   RBD           16601 non-null  int64 \n",
      " 1   NOM_RBD       16571 non-null  object\n",
      " 2   COD_COM_RBD   16601 non-null  int64 \n",
      " 3   COD_DEPE2     16601 non-null  int64 \n",
      " 4   LATITUD       16601 non-null  object\n",
      " 5   LONGITUD      16601 non-null  object\n",
      " 6   MAT_TOTAL     16601 non-null  int64 \n",
      " 7   ESTADO_ESTAB  16601 non-null  int64 \n",
      " 8   ENS_01        16601 non-null  int64 \n",
      "dtypes: int64(6), object(3)\n",
      "memory usage: 1.1+ MB\n"
     ]
    }
   ],
   "source": [
    "df.info()"
   ]
  },
  {
   "cell_type": "markdown",
   "metadata": {},
   "source": [
    "## 3. Limpieza de datos\n",
    "A continuación, se realiza la limpieza de datos del DataFrame con la finalidad de que pueda ser utilizado en el análisis de datos."
   ]
  },
  {
   "cell_type": "markdown",
   "metadata": {},
   "source": [
    "### 3.1 Filtro de comunas\n",
    "Primero que todo, nos aseguraremos que los datos se encuentren solo en las comunas de 'Copiapo' o 'RM'"
   ]
  },
  {
   "cell_type": "code",
   "execution_count": 8,
   "metadata": {},
   "outputs": [],
   "source": [
    "# Asegura que 'COD_COM_RBD' empieze con 13 (RM) o 31 (Copiapó)\n",
    "df = df[df['COD_COM_RBD'].astype(str).str.startswith('13') | df['COD_COM_RBD'].astype(str).str.startswith('31')]"
   ]
  },
  {
   "cell_type": "markdown",
   "metadata": {},
   "source": [
    "### 3.2 Filtro de estado del establecimiento\n",
    "Luego, nos aseguraremos que ĺos establecimientos no se encuentren cerrados."
   ]
  },
  {
   "cell_type": "code",
   "execution_count": 9,
   "metadata": {},
   "outputs": [],
   "source": [
    "# Asegura que 'ESTADO_ESTAB' sea distinto a 3 (Cerrado)\n",
    "df = df[df['ESTADO_ESTAB'] != 3]"
   ]
  },
  {
   "cell_type": "markdown",
   "metadata": {},
   "source": [
    "### 3.3 Check de tipos de datos\n",
    "A continuación, se revisan los tipos de datos de cada columna."
   ]
  },
  {
   "cell_type": "code",
   "execution_count": 10,
   "metadata": {},
   "outputs": [
    {
     "name": "stdout",
     "output_type": "stream",
     "text": [
      "<class 'pandas.core.frame.DataFrame'>\n",
      "Int64Index: 3456 entries, 306 to 16594\n",
      "Data columns (total 9 columns):\n",
      " #   Column        Non-Null Count  Dtype \n",
      "---  ------        --------------  ----- \n",
      " 0   RBD           3456 non-null   int64 \n",
      " 1   NOM_RBD       3456 non-null   object\n",
      " 2   COD_COM_RBD   3456 non-null   int64 \n",
      " 3   COD_DEPE2     3456 non-null   int64 \n",
      " 4   LATITUD       3456 non-null   object\n",
      " 5   LONGITUD      3456 non-null   object\n",
      " 6   MAT_TOTAL     3456 non-null   int64 \n",
      " 7   ESTADO_ESTAB  3456 non-null   int64 \n",
      " 8   ENS_01        3456 non-null   int64 \n",
      "dtypes: int64(6), object(3)\n",
      "memory usage: 270.0+ KB\n"
     ]
    }
   ],
   "source": [
    "df.info()"
   ]
  },
  {
   "cell_type": "code",
   "execution_count": 11,
   "metadata": {},
   "outputs": [
    {
     "name": "stdout",
     "output_type": "stream",
     "text": [
      "<class 'pandas.core.frame.DataFrame'>\n",
      "Int64Index: 3353 entries, 306 to 16549\n",
      "Data columns (total 9 columns):\n",
      " #   Column        Non-Null Count  Dtype  \n",
      "---  ------        --------------  -----  \n",
      " 0   RBD           3353 non-null   int64  \n",
      " 1   NOM_RBD       3353 non-null   object \n",
      " 2   COD_COM_RBD   3353 non-null   int64  \n",
      " 3   COD_DEPE2     3353 non-null   int64  \n",
      " 4   LATITUD       3353 non-null   float64\n",
      " 5   LONGITUD      3353 non-null   float64\n",
      " 6   MAT_TOTAL     3353 non-null   int64  \n",
      " 7   ESTADO_ESTAB  3353 non-null   int64  \n",
      " 8   ENS_01        3353 non-null   int64  \n",
      "dtypes: float64(2), int64(6), object(1)\n",
      "memory usage: 262.0+ KB\n"
     ]
    }
   ],
   "source": [
    "# Aseguramos que 'LATITUD' y 'LONGITUD' no sean strings vacios\n",
    "df = df[(df['LATITUD'] != ' ') & (df['LONGITUD'] != ' ')]\n",
    "\n",
    "# Cambiamos el tipo de dato de Latitud y Longitud a float, asegurando el cambio de ',' a '.'\n",
    "df['LATITUD'] = df['LATITUD'].str.replace(',', '.').astype(float)\n",
    "df['LONGITUD'] = df['LONGITUD'].str.replace(',', '.').astype(float)\n",
    "\n",
    "df.info()"
   ]
  },
  {
   "cell_type": "markdown",
   "metadata": {},
   "source": [
    "### 3.4 Filtro de errores en los datos\n",
    "Finalmente, verificamos que los datos tengan sentido lógico y no posean errores."
   ]
  },
  {
   "cell_type": "code",
   "execution_count": 12,
   "metadata": {},
   "outputs": [],
   "source": [
    "# Asegura que 'MAT_TOTAL' sea mayor a cero\n",
    "df = df[df['MAT_TOTAL'] > 0]"
   ]
  },
  {
   "cell_type": "code",
   "execution_count": 13,
   "metadata": {},
   "outputs": [],
   "source": [
    "# Asegura que 'NOM_RBD' no sea vacío\n",
    "df = df[df['NOM_RBD'] != ' ']"
   ]
  },
  {
   "cell_type": "code",
   "execution_count": 14,
   "metadata": {},
   "outputs": [],
   "source": [
    "# Asegura que no existan valores NaN o repetidos\n",
    "df.dropna(inplace=True)\n",
    "df.drop_duplicates(inplace=True)"
   ]
  },
  {
   "cell_type": "code",
   "execution_count": 15,
   "metadata": {},
   "outputs": [
    {
     "name": "stdout",
     "output_type": "stream",
     "text": [
      "<class 'pandas.core.frame.DataFrame'>\n",
      "Int64Index: 2982 entries, 306 to 16548\n",
      "Data columns (total 9 columns):\n",
      " #   Column        Non-Null Count  Dtype  \n",
      "---  ------        --------------  -----  \n",
      " 0   RBD           2982 non-null   int64  \n",
      " 1   NOM_RBD       2982 non-null   object \n",
      " 2   COD_COM_RBD   2982 non-null   int64  \n",
      " 3   COD_DEPE2     2982 non-null   int64  \n",
      " 4   LATITUD       2982 non-null   float64\n",
      " 5   LONGITUD      2982 non-null   float64\n",
      " 6   MAT_TOTAL     2982 non-null   int64  \n",
      " 7   ESTADO_ESTAB  2982 non-null   int64  \n",
      " 8   ENS_01        2982 non-null   int64  \n",
      "dtypes: float64(2), int64(6), object(1)\n",
      "memory usage: 233.0+ KB\n"
     ]
    }
   ],
   "source": [
    "df.info()"
   ]
  },
  {
   "cell_type": "markdown",
   "metadata": {},
   "source": [
    "## 4. Cambio de nombre a las columnas\n",
    "A continuación, se cambia el nombre de las columnas para que sea más fácil trabajar con ellas."
   ]
  },
  {
   "cell_type": "code",
   "execution_count": 16,
   "metadata": {},
   "outputs": [],
   "source": [
    "# "
   ]
  },
  {
   "cell_type": "markdown",
   "metadata": {},
   "source": [
    "## 5. Exportar datos\n",
    "Finalmente, se exportan los datos a un archivo csv."
   ]
  },
  {
   "cell_type": "code",
   "execution_count": 17,
   "metadata": {},
   "outputs": [],
   "source": [
    "df.to_csv('output_data/directorio.csv', index=False)"
   ]
  }
 ],
 "metadata": {
  "kernelspec": {
   "display_name": "Python 3",
   "language": "python",
   "name": "python3"
  },
  "language_info": {
   "codemirror_mode": {
    "name": "ipython",
    "version": 3
   },
   "file_extension": ".py",
   "mimetype": "text/x-python",
   "name": "python",
   "nbconvert_exporter": "python",
   "pygments_lexer": "ipython3",
   "version": "3.11.4"
  }
 },
 "nbformat": 4,
 "nbformat_minor": 2
}
