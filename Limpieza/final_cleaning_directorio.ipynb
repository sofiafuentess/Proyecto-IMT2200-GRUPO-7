{
 "cells": [
  {
   "cell_type": "markdown",
   "metadata": {},
   "source": [
    "# Limpieza de datos final de colegios\n",
    "Uniremos los datasets ya limpiados para hacer un dataset final de colegios."
   ]
  },
  {
   "cell_type": "markdown",
   "metadata": {},
   "source": [
    "## 1. Importar librerías\n",
    "Importamos las librerías que vamos a utilizar."
   ]
  },
  {
   "cell_type": "code",
   "execution_count": 8,
   "metadata": {},
   "outputs": [],
   "source": [
    "import pandas as pd"
   ]
  },
  {
   "cell_type": "markdown",
   "metadata": {},
   "source": [
    "## 2. Importar datasets\n",
    "Importamos los datasets que vamos a utilizar."
   ]
  },
  {
   "cell_type": "code",
   "execution_count": 9,
   "metadata": {},
   "outputs": [],
   "source": [
    "df_directorio = pd.read_csv('output_data/directorio.csv', sep=',')\n",
    "df_SEP = pd.read_csv('output_data/SEP.csv', sep=',')"
   ]
  },
  {
   "cell_type": "markdown",
   "metadata": {},
   "source": [
    "## 3. Unir datasets\n",
    "Unimos los datasets que vamos a utilizar."
   ]
  },
  {
   "cell_type": "code",
   "execution_count": 10,
   "metadata": {},
   "outputs": [],
   "source": [
    "# Merge dataframes\n",
    "df = pd.merge(df_directorio, df_SEP, on=['RBD','COD_COM_RBD'], how='right')"
   ]
  },
  {
   "cell_type": "markdown",
   "metadata": {},
   "source": [
    "### 3.1 Drop columns\n",
    "Eliminamos las columnas que no vamos a utilizar."
   ]
  },
  {
   "cell_type": "code",
   "execution_count": 11,
   "metadata": {},
   "outputs": [],
   "source": [
    "columns_to_drop = ['MRUN', 'BEN_SEP', 'CRITERIO_SEP', 'PREFERENTE_ALU', 'PRIORITARIO_ALU']\n",
    "df = df.drop(columns_to_drop, axis=1)"
   ]
  },
  {
   "cell_type": "code",
   "execution_count": 12,
   "metadata": {},
   "outputs": [
    {
     "data": {
      "text/html": [
       "<div>\n",
       "<style scoped>\n",
       "    .dataframe tbody tr th:only-of-type {\n",
       "        vertical-align: middle;\n",
       "    }\n",
       "\n",
       "    .dataframe tbody tr th {\n",
       "        vertical-align: top;\n",
       "    }\n",
       "\n",
       "    .dataframe thead th {\n",
       "        text-align: right;\n",
       "    }\n",
       "</style>\n",
       "<table border=\"1\" class=\"dataframe\">\n",
       "  <thead>\n",
       "    <tr style=\"text-align: right;\">\n",
       "      <th></th>\n",
       "      <th>RBD</th>\n",
       "      <th>NOM_RBD</th>\n",
       "      <th>COD_COM_RBD</th>\n",
       "      <th>COD_DEPE2</th>\n",
       "      <th>LATITUD</th>\n",
       "      <th>LONGITUD</th>\n",
       "      <th>MAT_TOTAL</th>\n",
       "      <th>ESTADO_ESTAB</th>\n",
       "      <th>ENS_01</th>\n",
       "      <th>CONVENIO_SEP</th>\n",
       "    </tr>\n",
       "  </thead>\n",
       "  <tbody>\n",
       "    <tr>\n",
       "      <th>0</th>\n",
       "      <td>10763</td>\n",
       "      <td>ESCUELA CRISTAL CHILE</td>\n",
       "      <td>13604</td>\n",
       "      <td>1</td>\n",
       "      <td>-33.561953</td>\n",
       "      <td>-70.818988</td>\n",
       "      <td>396</td>\n",
       "      <td>1</td>\n",
       "      <td>10</td>\n",
       "      <td>1</td>\n",
       "    </tr>\n",
       "    <tr>\n",
       "      <th>1</th>\n",
       "      <td>10506</td>\n",
       "      <td>COLEGIO SENDA DEL SABER</td>\n",
       "      <td>13201</td>\n",
       "      <td>2</td>\n",
       "      <td>-33.580630</td>\n",
       "      <td>-70.607881</td>\n",
       "      <td>985</td>\n",
       "      <td>1</td>\n",
       "      <td>10</td>\n",
       "      <td>1</td>\n",
       "    </tr>\n",
       "    <tr>\n",
       "      <th>2</th>\n",
       "      <td>8492</td>\n",
       "      <td>LICEO MANUEL BARROS BORGONO</td>\n",
       "      <td>13101</td>\n",
       "      <td>1</td>\n",
       "      <td>-33.466963</td>\n",
       "      <td>-70.648888</td>\n",
       "      <td>745</td>\n",
       "      <td>1</td>\n",
       "      <td>110</td>\n",
       "      <td>1</td>\n",
       "    </tr>\n",
       "    <tr>\n",
       "      <th>3</th>\n",
       "      <td>9780</td>\n",
       "      <td>COLEGIO TENIENTE DAGOBERTO GODOY</td>\n",
       "      <td>13105</td>\n",
       "      <td>2</td>\n",
       "      <td>-33.559746</td>\n",
       "      <td>-70.658111</td>\n",
       "      <td>1225</td>\n",
       "      <td>1</td>\n",
       "      <td>10</td>\n",
       "      <td>1</td>\n",
       "    </tr>\n",
       "    <tr>\n",
       "      <th>4</th>\n",
       "      <td>10491</td>\n",
       "      <td>ESCUELA SANTA JOAQUINA DE VEDRUNA</td>\n",
       "      <td>13201</td>\n",
       "      <td>2</td>\n",
       "      <td>-33.603713</td>\n",
       "      <td>-70.573368</td>\n",
       "      <td>1031</td>\n",
       "      <td>1</td>\n",
       "      <td>10</td>\n",
       "      <td>1</td>\n",
       "    </tr>\n",
       "    <tr>\n",
       "      <th>...</th>\n",
       "      <td>...</td>\n",
       "      <td>...</td>\n",
       "      <td>...</td>\n",
       "      <td>...</td>\n",
       "      <td>...</td>\n",
       "      <td>...</td>\n",
       "      <td>...</td>\n",
       "      <td>...</td>\n",
       "      <td>...</td>\n",
       "      <td>...</td>\n",
       "    </tr>\n",
       "    <tr>\n",
       "      <th>717359</th>\n",
       "      <td>10046</td>\n",
       "      <td>ESCUELA PARTICULAR SAGRADA FAMILIA</td>\n",
       "      <td>13126</td>\n",
       "      <td>2</td>\n",
       "      <td>-33.447093</td>\n",
       "      <td>-70.697332</td>\n",
       "      <td>547</td>\n",
       "      <td>1</td>\n",
       "      <td>10</td>\n",
       "      <td>1</td>\n",
       "    </tr>\n",
       "    <tr>\n",
       "      <th>717360</th>\n",
       "      <td>12117</td>\n",
       "      <td>COMPLEJO EDUCACIONAL J. MIGUEL CARRERA</td>\n",
       "      <td>13125</td>\n",
       "      <td>1</td>\n",
       "      <td>-33.368052</td>\n",
       "      <td>-70.732495</td>\n",
       "      <td>706</td>\n",
       "      <td>1</td>\n",
       "      <td>410</td>\n",
       "      <td>1</td>\n",
       "    </tr>\n",
       "    <tr>\n",
       "      <th>717361</th>\n",
       "      <td>31432</td>\n",
       "      <td>LICEO ALTO CORDILLERA DE LA FLORIDA</td>\n",
       "      <td>13110</td>\n",
       "      <td>1</td>\n",
       "      <td>-33.554806</td>\n",
       "      <td>-70.576880</td>\n",
       "      <td>658</td>\n",
       "      <td>1</td>\n",
       "      <td>10</td>\n",
       "      <td>1</td>\n",
       "    </tr>\n",
       "    <tr>\n",
       "      <th>717362</th>\n",
       "      <td>9703</td>\n",
       "      <td>ESCUELA ESPERANZA JOVEN</td>\n",
       "      <td>13109</td>\n",
       "      <td>1</td>\n",
       "      <td>-33.518662</td>\n",
       "      <td>-70.668074</td>\n",
       "      <td>343</td>\n",
       "      <td>1</td>\n",
       "      <td>10</td>\n",
       "      <td>1</td>\n",
       "    </tr>\n",
       "    <tr>\n",
       "      <th>717363</th>\n",
       "      <td>9804</td>\n",
       "      <td>ESCUELA PABLO DE TARSO</td>\n",
       "      <td>13109</td>\n",
       "      <td>2</td>\n",
       "      <td>-33.516175</td>\n",
       "      <td>-70.667342</td>\n",
       "      <td>214</td>\n",
       "      <td>1</td>\n",
       "      <td>10</td>\n",
       "      <td>1</td>\n",
       "    </tr>\n",
       "  </tbody>\n",
       "</table>\n",
       "<p>717364 rows × 10 columns</p>\n",
       "</div>"
      ],
      "text/plain": [
       "          RBD                                 NOM_RBD  COD_COM_RBD  COD_DEPE2  \\\n",
       "0       10763                   ESCUELA CRISTAL CHILE        13604          1   \n",
       "1       10506                 COLEGIO SENDA DEL SABER        13201          2   \n",
       "2        8492             LICEO MANUEL BARROS BORGONO        13101          1   \n",
       "3        9780        COLEGIO TENIENTE DAGOBERTO GODOY        13105          2   \n",
       "4       10491       ESCUELA SANTA JOAQUINA DE VEDRUNA        13201          2   \n",
       "...       ...                                     ...          ...        ...   \n",
       "717359  10046      ESCUELA PARTICULAR SAGRADA FAMILIA        13126          2   \n",
       "717360  12117  COMPLEJO EDUCACIONAL J. MIGUEL CARRERA        13125          1   \n",
       "717361  31432     LICEO ALTO CORDILLERA DE LA FLORIDA        13110          1   \n",
       "717362   9703                 ESCUELA ESPERANZA JOVEN        13109          1   \n",
       "717363   9804                  ESCUELA PABLO DE TARSO        13109          2   \n",
       "\n",
       "          LATITUD   LONGITUD  MAT_TOTAL  ESTADO_ESTAB  ENS_01  CONVENIO_SEP  \n",
       "0      -33.561953 -70.818988        396             1      10             1  \n",
       "1      -33.580630 -70.607881        985             1      10             1  \n",
       "2      -33.466963 -70.648888        745             1     110             1  \n",
       "3      -33.559746 -70.658111       1225             1      10             1  \n",
       "4      -33.603713 -70.573368       1031             1      10             1  \n",
       "...           ...        ...        ...           ...     ...           ...  \n",
       "717359 -33.447093 -70.697332        547             1      10             1  \n",
       "717360 -33.368052 -70.732495        706             1     410             1  \n",
       "717361 -33.554806 -70.576880        658             1      10             1  \n",
       "717362 -33.518662 -70.668074        343             1      10             1  \n",
       "717363 -33.516175 -70.667342        214             1      10             1  \n",
       "\n",
       "[717364 rows x 10 columns]"
      ]
     },
     "execution_count": 12,
     "metadata": {},
     "output_type": "execute_result"
    }
   ],
   "source": [
    "df"
   ]
  },
  {
   "cell_type": "markdown",
   "metadata": {},
   "source": [
    "## 4. Exportar data\n",
    "Exportamos el dataset final de estudiantes."
   ]
  },
  {
   "cell_type": "code",
   "execution_count": 13,
   "metadata": {},
   "outputs": [],
   "source": [
    "df.to_csv('../analisis_data/colegios.csv', sep=',', index=False)"
   ]
  }
 ],
 "metadata": {
  "kernelspec": {
   "display_name": "Python 3",
   "language": "python",
   "name": "python3"
  },
  "language_info": {
   "codemirror_mode": {
    "name": "ipython",
    "version": 3
   },
   "file_extension": ".py",
   "mimetype": "text/x-python",
   "name": "python",
   "nbconvert_exporter": "python",
   "pygments_lexer": "ipython3",
   "version": "3.11.4"
  }
 },
 "nbformat": 4,
 "nbformat_minor": 2
}
