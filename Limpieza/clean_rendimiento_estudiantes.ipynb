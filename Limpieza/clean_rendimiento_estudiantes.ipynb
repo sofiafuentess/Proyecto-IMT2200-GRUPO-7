{
 "cells": [
  {
   "cell_type": "markdown",
   "metadata": {},
   "source": [
    "# Limpieza de datos de rendimiento escolar\n",
    "\n",
    "En este cuaderno de Jupyter, se limpiará los datos ligados al rendimiento académico escolar. \n",
    "\n",
    "El conjunto de datos utilizado en este análisis se encuentra en el archivo \"Rendimiento_Estudiante.csv\", el cual contiene información sobre el rendimiento de los estudiantes en diferentes escuelas de Chile. El conjunto de datos incluye información sobre el mes escolar, el RBD de la escuela, el RUN del alumno, el género del alumno, la fecha de nacimiento del alumno, la comuna del alumno, el promedio de notas y más."
   ]
  },
  {
   "cell_type": "markdown",
   "metadata": {},
   "source": [
    "## 1. Importación de librerías\n",
    "A continuación se importarán las librerías que se utilizarán en este cuaderno de Jupyter."
   ]
  },
  {
   "cell_type": "code",
   "execution_count": 3,
   "metadata": {},
   "outputs": [],
   "source": [
    "import pandas as pd"
   ]
  },
  {
   "cell_type": "markdown",
   "metadata": {},
   "source": [
    "## 2. Carga de datos\n",
    "A continuación se cargará el conjunto de datos que se utilizará en este cuaderno de Jupyter."
   ]
  },
  {
   "cell_type": "code",
   "execution_count": 4,
   "metadata": {},
   "outputs": [
    {
     "name": "stderr",
     "output_type": "stream",
     "text": [
      "/var/folders/rn/8kg7t05x7l3fy1mwbgcdkw240000gp/T/ipykernel_25637/3874648432.py:2: DtypeWarning: Columns (25) have mixed types. Specify dtype option on import or set low_memory=False.\n",
      "  df = pd.read_csv(data_path, sep=';')\n"
     ]
    }
   ],
   "source": [
    "data_path = 'data/Rendimiento.csv'\n",
    "df = pd.read_csv(data_path, sep=';')"
   ]
  },
  {
   "cell_type": "markdown",
   "metadata": {},
   "source": [
    "### 2.1 Columnas a utilizar\n",
    "Las columnas que utilizaremos en este cuaderno de Jupyter son las siguientes:\n",
    "- 'RBD': RBD de la escuela\n",
    "- 'MRUN': RUN del alumno\n",
    "- 'COD_JOR': Jornada en la que asiste a clases\n",
    "- 'PROM_GRAL': Promedio general anual del alumno\n",
    "- 'SIT_FIN_R': Situación de promoción al cierre del año escolar\n"
   ]
  },
  {
   "cell_type": "code",
   "execution_count": 6,
   "metadata": {},
   "outputs": [],
   "source": [
    "# Mantiene las columnas que se encuentran en la lista\n",
    "columns = ['MRUN','RBD', 'COD_JOR', 'PROM_GRAL', 'SIT_FIN_R']\n",
    "df = df[columns]"
   ]
  },
  {
   "cell_type": "code",
   "execution_count": 7,
   "metadata": {},
   "outputs": [
    {
     "name": "stdout",
     "output_type": "stream",
     "text": [
      "<class 'pandas.core.frame.DataFrame'>\n",
      "RangeIndex: 3405130 entries, 0 to 3405129\n",
      "Data columns (total 5 columns):\n",
      " #   Column     Dtype  \n",
      "---  ------     -----  \n",
      " 0   MRUN       int64  \n",
      " 1   RBD        int64  \n",
      " 2   COD_JOR    int64  \n",
      " 3   PROM_GRAL  float64\n",
      " 4   SIT_FIN_R  object \n",
      "dtypes: float64(1), int64(3), object(1)\n",
      "memory usage: 129.9+ MB\n"
     ]
    }
   ],
   "source": [
    "df.info()"
   ]
  },
  {
   "cell_type": "code",
   "execution_count": 5,
   "metadata": {},
   "outputs": [],
   "source": [
    "# Cambia el data type de 'PROM_GRAL' a float y asegura que los , se cambien por .\n",
    "df['PROM_GRAL'] = df['PROM_GRAL'].str.replace(',', '.').astype(float)"
   ]
  },
  {
   "cell_type": "markdown",
   "metadata": {},
   "source": [
    "## 3. Limpieza de datos\n",
    "A continuación se limpiará el conjunto de datos que se utilizará en este cuaderno de Jupyter."
   ]
  },
  {
   "cell_type": "markdown",
   "metadata": {},
   "source": [
    "### 3.1 Filtro de errores en los datos\n",
    "Ahora se eliminarán las filas que contengan errores o no posean sentido."
   ]
  },
  {
   "cell_type": "code",
   "execution_count": 8,
   "metadata": {},
   "outputs": [],
   "source": [
    "# Asegura que 'PROM_GRAL' no sea igual a 0.0 (Retirado)\n",
    "df = df[df['PROM_GRAL'] != float(0)]\n"
   ]
  },
  {
   "cell_type": "code",
   "execution_count": 9,
   "metadata": {},
   "outputs": [],
   "source": [
    "# Asegura que 'SIT_FIN_R' no posea información ' '\n",
    "df = df[df['SIT_FIN_R'] != ' ']"
   ]
  },
  {
   "cell_type": "code",
   "execution_count": 10,
   "metadata": {},
   "outputs": [],
   "source": [
    "# Elimina del dataframe las filas que contienen valores nulos o duplicados\n",
    "df = df.dropna()\n",
    "df = df.drop_duplicates()"
   ]
  },
  {
   "cell_type": "markdown",
   "metadata": {},
   "source": [
    "### 3.2 Asegurando el correcto tipo de datos\n",
    "Ahora aseguraremos que los datos se encuentren en el tipo de datos correcto"
   ]
  },
  {
   "cell_type": "code",
   "execution_count": 11,
   "metadata": {},
   "outputs": [
    {
     "name": "stdout",
     "output_type": "stream",
     "text": [
      "<class 'pandas.core.frame.DataFrame'>\n",
      "Int64Index: 3092848 entries, 0 to 3405088\n",
      "Data columns (total 5 columns):\n",
      " #   Column     Dtype  \n",
      "---  ------     -----  \n",
      " 0   MRUN       int64  \n",
      " 1   RBD        int64  \n",
      " 2   COD_JOR    int64  \n",
      " 3   PROM_GRAL  float64\n",
      " 4   SIT_FIN_R  object \n",
      "dtypes: float64(1), int64(3), object(1)\n",
      "memory usage: 141.6+ MB\n"
     ]
    }
   ],
   "source": [
    "# Aseguramos que el tipo de datos correcto para todas las columnas\n",
    "df.info()"
   ]
  },
  {
   "cell_type": "code",
   "execution_count": 12,
   "metadata": {},
   "outputs": [],
   "source": [
    "# cambiando nombres de columnas\n",
    "#renombramos la columna MRUN para mayor legebilidad \n",
    "\n",
    "df= df.rename(columns={'MRUN': 'RUN_ALUMNO'})\n"
   ]
  },
  {
   "cell_type": "code",
   "execution_count": 15,
   "metadata": {},
   "outputs": [
    {
     "data": {
      "text/html": [
       "<div>\n",
       "<style scoped>\n",
       "    .dataframe tbody tr th:only-of-type {\n",
       "        vertical-align: middle;\n",
       "    }\n",
       "\n",
       "    .dataframe tbody tr th {\n",
       "        vertical-align: top;\n",
       "    }\n",
       "\n",
       "    .dataframe thead th {\n",
       "        text-align: right;\n",
       "    }\n",
       "</style>\n",
       "<table border=\"1\" class=\"dataframe\">\n",
       "  <thead>\n",
       "    <tr style=\"text-align: right;\">\n",
       "      <th></th>\n",
       "      <th>RUN_ALUMNO</th>\n",
       "      <th>RBD</th>\n",
       "      <th>COD_JOR</th>\n",
       "      <th>PROM_GRAL</th>\n",
       "      <th>SIT_FIN_R</th>\n",
       "    </tr>\n",
       "  </thead>\n",
       "  <tbody>\n",
       "    <tr>\n",
       "      <th>3405077</th>\n",
       "      <td>16057557</td>\n",
       "      <td>42081</td>\n",
       "      <td>1</td>\n",
       "      <td>5.6</td>\n",
       "      <td>P</td>\n",
       "    </tr>\n",
       "    <tr>\n",
       "      <th>3405079</th>\n",
       "      <td>21859315</td>\n",
       "      <td>42081</td>\n",
       "      <td>1</td>\n",
       "      <td>6.0</td>\n",
       "      <td>P</td>\n",
       "    </tr>\n",
       "    <tr>\n",
       "      <th>3405081</th>\n",
       "      <td>5717717</td>\n",
       "      <td>42081</td>\n",
       "      <td>1</td>\n",
       "      <td>6.6</td>\n",
       "      <td>P</td>\n",
       "    </tr>\n",
       "    <tr>\n",
       "      <th>3405084</th>\n",
       "      <td>13023637</td>\n",
       "      <td>42081</td>\n",
       "      <td>1</td>\n",
       "      <td>6.9</td>\n",
       "      <td>P</td>\n",
       "    </tr>\n",
       "    <tr>\n",
       "      <th>3405088</th>\n",
       "      <td>25734022</td>\n",
       "      <td>42081</td>\n",
       "      <td>1</td>\n",
       "      <td>6.4</td>\n",
       "      <td>P</td>\n",
       "    </tr>\n",
       "  </tbody>\n",
       "</table>\n",
       "</div>"
      ],
      "text/plain": [
       "         RUN_ALUMNO    RBD  COD_JOR  PROM_GRAL SIT_FIN_R\n",
       "3405077    16057557  42081        1        5.6         P\n",
       "3405079    21859315  42081        1        6.0         P\n",
       "3405081     5717717  42081        1        6.6         P\n",
       "3405084    13023637  42081        1        6.9         P\n",
       "3405088    25734022  42081        1        6.4         P"
      ]
     },
     "execution_count": 15,
     "metadata": {},
     "output_type": "execute_result"
    }
   ],
   "source": [
    "df.tail()"
   ]
  },
  {
   "cell_type": "code",
   "execution_count": 13,
   "metadata": {},
   "outputs": [],
   "source": [
    "# Export data\n",
    "df.to_csv('output_data/rendimiento_estudiantes.csv', index=False)"
   ]
  },
  {
   "cell_type": "markdown",
   "metadata": {},
   "source": [
    "### 3.3 Merge de datos ( Cambiaría este título? ) \n",
    "\n",
    "Ahora se unirán los datos de los estudiantes con los datos de las escuelas.\n",
    "\n",
    "maira: realmente no entiendo bien que pasa de aquí en adelante jajsa y me provocá conflicto con las otras partes del trabajo"
   ]
  },
  {
   "cell_type": "code",
   "execution_count": 40,
   "metadata": {},
   "outputs": [],
   "source": [
    "# Abre el archivo 'asistencia.csv' y 'directorio.csv', y lo guarda en un dataframe\n",
    "df_asistencia = pd.read_csv('output_data/asistencia.csv', sep=',')\n",
    "df_directorio = pd.read_csv('output_data/directorio.csv', sep=',')"
   ]
  },
  {
   "cell_type": "code",
   "execution_count": 41,
   "metadata": {},
   "outputs": [],
   "source": [
    "schools_rbd = df_directorio['RBD'].is_unique\n",
    "\n",
    "# Elimina del dataframe las filas que no pertenecen a los RBDs de la lista\n",
    "df = df[df['RBD'].isin(df_directorio['RBD'])]"
   ]
  },
  {
   "cell_type": "code",
   "execution_count": 43,
   "metadata": {},
   "outputs": [],
   "source": [
    "students_run = df_asistencia['RUN_ALUMNO'].is_unique\n",
    "\n",
    "# Elimina del dataframe las filas que no pertenecen a los MRUNs de la lista\n",
    "df = df[df['RUN_ALUMNO'].isin(df_asistencia['RUN_ALUMNO'])]"
   ]
  },
  {
   "cell_type": "code",
   "execution_count": 44,
   "metadata": {},
   "outputs": [
    {
     "name": "stderr",
     "output_type": "stream",
     "text": [
      "/var/folders/rn/8kg7t05x7l3fy1mwbgcdkw240000gp/T/ipykernel_24923/372239364.py:2: SettingWithCopyWarning: \n",
      "A value is trying to be set on a copy of a slice from a DataFrame.\n",
      "Try using .loc[row_indexer,col_indexer] = value instead\n",
      "\n",
      "See the caveats in the documentation: https://pandas.pydata.org/pandas-docs/stable/user_guide/indexing.html#returning-a-view-versus-a-copy\n",
      "  df['PROM_GRAL'] = df['PROM_GRAL'].str.replace(',', '.').astype(float)\n"
     ]
    }
   ],
   "source": [
    "# Cambia el data type de 'PROM_GRAL' a float y asegura que los , se cambien por .\n",
    "df['PROM_GRAL'] = df['PROM_GRAL'].str.replace(',', '.').astype(float)"
   ]
  },
  {
   "cell_type": "code",
   "execution_count": 45,
   "metadata": {},
   "outputs": [
    {
     "name": "stdout",
     "output_type": "stream",
     "text": [
      "<class 'pandas.core.frame.DataFrame'>\n",
      "Int64Index: 80256 entries, 128805 to 3401766\n",
      "Data columns (total 5 columns):\n",
      " #   Column      Non-Null Count  Dtype  \n",
      "---  ------      --------------  -----  \n",
      " 0   RUN_ALUMNO  80256 non-null  int64  \n",
      " 1   RBD         80256 non-null  int64  \n",
      " 2   COD_JOR     80256 non-null  int64  \n",
      " 3   PROM_GRAL   80256 non-null  float64\n",
      " 4   SIT_FIN_R   80256 non-null  object \n",
      "dtypes: float64(1), int64(3), object(1)\n",
      "memory usage: 3.7+ MB\n"
     ]
    }
   ],
   "source": [
    "df.info()"
   ]
  },
  {
   "cell_type": "code",
   "execution_count": 46,
   "metadata": {},
   "outputs": [
    {
     "data": {
      "text/html": [
       "<div>\n",
       "<style scoped>\n",
       "    .dataframe tbody tr th:only-of-type {\n",
       "        vertical-align: middle;\n",
       "    }\n",
       "\n",
       "    .dataframe tbody tr th {\n",
       "        vertical-align: top;\n",
       "    }\n",
       "\n",
       "    .dataframe thead th {\n",
       "        text-align: right;\n",
       "    }\n",
       "</style>\n",
       "<table border=\"1\" class=\"dataframe\">\n",
       "  <thead>\n",
       "    <tr style=\"text-align: right;\">\n",
       "      <th></th>\n",
       "      <th>RUN_ALUMNO</th>\n",
       "      <th>RBD</th>\n",
       "      <th>COD_JOR</th>\n",
       "      <th>PROM_GRAL</th>\n",
       "      <th>SIT_FIN_R</th>\n",
       "    </tr>\n",
       "  </thead>\n",
       "  <tbody>\n",
       "    <tr>\n",
       "      <th>128805</th>\n",
       "      <td>439417</td>\n",
       "      <td>396</td>\n",
       "      <td>3</td>\n",
       "      <td>5.4</td>\n",
       "      <td>P</td>\n",
       "    </tr>\n",
       "    <tr>\n",
       "      <th>128806</th>\n",
       "      <td>588452</td>\n",
       "      <td>396</td>\n",
       "      <td>3</td>\n",
       "      <td>5.9</td>\n",
       "      <td>P</td>\n",
       "    </tr>\n",
       "    <tr>\n",
       "      <th>128807</th>\n",
       "      <td>3392535</td>\n",
       "      <td>396</td>\n",
       "      <td>3</td>\n",
       "      <td>6.3</td>\n",
       "      <td>P</td>\n",
       "    </tr>\n",
       "    <tr>\n",
       "      <th>128808</th>\n",
       "      <td>3682443</td>\n",
       "      <td>396</td>\n",
       "      <td>3</td>\n",
       "      <td>5.2</td>\n",
       "      <td>P</td>\n",
       "    </tr>\n",
       "    <tr>\n",
       "      <th>128810</th>\n",
       "      <td>5886174</td>\n",
       "      <td>396</td>\n",
       "      <td>3</td>\n",
       "      <td>0.0</td>\n",
       "      <td>T</td>\n",
       "    </tr>\n",
       "    <tr>\n",
       "      <th>...</th>\n",
       "      <td>...</td>\n",
       "      <td>...</td>\n",
       "      <td>...</td>\n",
       "      <td>...</td>\n",
       "      <td>...</td>\n",
       "    </tr>\n",
       "    <tr>\n",
       "      <th>3401731</th>\n",
       "      <td>25476050</td>\n",
       "      <td>41780</td>\n",
       "      <td>3</td>\n",
       "      <td>5.5</td>\n",
       "      <td>P</td>\n",
       "    </tr>\n",
       "    <tr>\n",
       "      <th>3401736</th>\n",
       "      <td>2673908</td>\n",
       "      <td>41780</td>\n",
       "      <td>3</td>\n",
       "      <td>5.5</td>\n",
       "      <td>P</td>\n",
       "    </tr>\n",
       "    <tr>\n",
       "      <th>3401740</th>\n",
       "      <td>5270171</td>\n",
       "      <td>41780</td>\n",
       "      <td>3</td>\n",
       "      <td>0.0</td>\n",
       "      <td>T</td>\n",
       "    </tr>\n",
       "    <tr>\n",
       "      <th>3401744</th>\n",
       "      <td>8372950</td>\n",
       "      <td>41780</td>\n",
       "      <td>3</td>\n",
       "      <td>5.6</td>\n",
       "      <td>P</td>\n",
       "    </tr>\n",
       "    <tr>\n",
       "      <th>3401766</th>\n",
       "      <td>25561605</td>\n",
       "      <td>41780</td>\n",
       "      <td>3</td>\n",
       "      <td>6.0</td>\n",
       "      <td>P</td>\n",
       "    </tr>\n",
       "  </tbody>\n",
       "</table>\n",
       "<p>80256 rows × 5 columns</p>\n",
       "</div>"
      ],
      "text/plain": [
       "         RUN_ALUMNO    RBD  COD_JOR  PROM_GRAL SIT_FIN_R\n",
       "128805       439417    396        3        5.4         P\n",
       "128806       588452    396        3        5.9         P\n",
       "128807      3392535    396        3        6.3         P\n",
       "128808      3682443    396        3        5.2         P\n",
       "128810      5886174    396        3        0.0         T\n",
       "...             ...    ...      ...        ...       ...\n",
       "3401731    25476050  41780        3        5.5         P\n",
       "3401736     2673908  41780        3        5.5         P\n",
       "3401740     5270171  41780        3        0.0         T\n",
       "3401744     8372950  41780        3        5.6         P\n",
       "3401766    25561605  41780        3        6.0         P\n",
       "\n",
       "[80256 rows x 5 columns]"
      ]
     },
     "execution_count": 46,
     "metadata": {},
     "output_type": "execute_result"
    }
   ],
   "source": [
    "# hice esto para ver el asunto , después lo borramos\n",
    "df"
   ]
  },
  {
   "cell_type": "markdown",
   "metadata": {},
   "source": [
    "## 4. Cambio de nombre de columnas\n",
    "A continuación se cambiará el nombre de las columnas del conjunto de datos."
   ]
  },
  {
   "cell_type": "markdown",
   "metadata": {},
   "source": [
    "## 5. Exportación de datos\n",
    "Finalmente, se exportará el conjunto de datos limpio a un archivo csv."
   ]
  },
  {
   "cell_type": "code",
   "execution_count": 47,
   "metadata": {},
   "outputs": [],
   "source": [
    "# Export data\n",
    "df.to_csv('output_data/rendimiento_estudiantes.csv', index=False)"
   ]
  }
 ],
 "metadata": {
  "kernelspec": {
   "display_name": "Python 3",
   "language": "python",
   "name": "python3"
  },
  "language_info": {
   "codemirror_mode": {
    "name": "ipython",
    "version": 3
   },
   "file_extension": ".py",
   "mimetype": "text/x-python",
   "name": "python",
   "nbconvert_exporter": "python",
   "pygments_lexer": "ipython3",
   "version": "3.11.4"
  }
 },
 "nbformat": 4,
 "nbformat_minor": 2
}
