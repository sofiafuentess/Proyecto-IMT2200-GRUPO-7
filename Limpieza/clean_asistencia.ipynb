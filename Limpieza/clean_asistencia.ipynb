{
 "cells": [
  {
   "cell_type": "markdown",
   "metadata": {},
   "source": [
    "# Limpieza de datos de asistencia escolar\n",
    "\n",
    "En este cuaderno de Jupyter, se limpiará los datos ligados a la asistencia escolar en Chile.\n",
    "\n",
    "El conjunto de datos utilizado en este análisis se encuentra en el archivo \"Asistencia.csv\", el cual contiene información sobre la asistencia de los estudiantes en diferentes escuelas de Chile. El conjunto de datos incluye información sobre el mes escolar, el RBD de la escuela, el RUN del alumno, el género del alumno, la fecha de nacimiento del alumno, la comuna del alumno, los días asistidos, los días trabajados y la asistencia promedio."
   ]
  },
  {
   "cell_type": "markdown",
   "metadata": {},
   "source": [
    "## 1. Importación de librerías\n",
    "A continuación se importarán las librerías que se utilizarán en este cuaderno de Jupyter."
   ]
  },
  {
   "cell_type": "code",
   "execution_count": 23,
   "metadata": {},
   "outputs": [],
   "source": [
    "import pandas as pd"
   ]
  },
  {
   "cell_type": "markdown",
   "metadata": {},
   "source": [
    "## 2. Carga de datos\n",
    "A continuación se cargará el conjunto de datos que se utilizará en este cuaderno de Jupyter."
   ]
  },
  {
   "cell_type": "code",
   "execution_count": 44,
   "metadata": {},
   "outputs": [],
   "source": [
    "df = pd.read_csv('data/Asistencia.csv', sep=';')"
   ]
  },
  {
   "cell_type": "markdown",
   "metadata": {},
   "source": [
    "### 2.1 Columnas a utilizar\n",
    "Las columnas que utilizaremos en este cuaderno de Jupyter son las siguientes:\n",
    "- `MES_ESCOLAR`: Mes escolar\n",
    "- `COD_PRO_RBD`: Código de la provincia del RBD\n",
    "- `RBD`: RBD de la escuela\n",
    "- `MRUN`: RUN del alumno\n",
    "- `GEN_ALU`: Sexo del alumno\n",
    "- `FEC_NAC_ALU`: Fecha de nacimiento del alumno\n",
    "- `COD_COM_ALU`: Número de la comuna del alumno\n",
    "- `COD_ENSE2`: Código de enseñanza agrupados\n",
    "- `DIA_ASISISTIDOS`: Días asistidos\n",
    "- `DIA_TRABAJADOS`: Días trabajados\n",
    "- `ASIS_PROMEDIO`: Asistencia promedio"
   ]
  },
  {
   "cell_type": "code",
   "execution_count": 25,
   "metadata": {},
   "outputs": [],
   "source": [
    "# Mantiene las columnas que se encuentran en la lista\n",
    "columns = ['MES_ESCOLAR', 'COD_PRO_RBD', 'RBD', 'MRUN', 'GEN_ALU', 'FEC_NAC_ALU', 'COD_COM_ALU', 'COD_ENSE2', 'DIAS_ASISTIDOS', 'ASIS_PROMEDIO','COD_REG_RBD']\n",
    "df = df[columns]"
   ]
  },
  {
   "cell_type": "code",
   "execution_count": 26,
   "metadata": {},
   "outputs": [
    {
     "data": {
      "text/html": [
       "<div>\n",
       "<style scoped>\n",
       "    .dataframe tbody tr th:only-of-type {\n",
       "        vertical-align: middle;\n",
       "    }\n",
       "\n",
       "    .dataframe tbody tr th {\n",
       "        vertical-align: top;\n",
       "    }\n",
       "\n",
       "    .dataframe thead th {\n",
       "        text-align: right;\n",
       "    }\n",
       "</style>\n",
       "<table border=\"1\" class=\"dataframe\">\n",
       "  <thead>\n",
       "    <tr style=\"text-align: right;\">\n",
       "      <th></th>\n",
       "      <th>MES_ESCOLAR</th>\n",
       "      <th>COD_PRO_RBD</th>\n",
       "      <th>RBD</th>\n",
       "      <th>MRUN</th>\n",
       "      <th>GEN_ALU</th>\n",
       "      <th>FEC_NAC_ALU</th>\n",
       "      <th>COD_COM_ALU</th>\n",
       "      <th>COD_ENSE2</th>\n",
       "      <th>DIAS_ASISTIDOS</th>\n",
       "      <th>ASIS_PROMEDIO</th>\n",
       "      <th>COD_REG_RBD</th>\n",
       "    </tr>\n",
       "  </thead>\n",
       "  <tbody>\n",
       "    <tr>\n",
       "      <th>0</th>\n",
       "      <td>8</td>\n",
       "      <td>151</td>\n",
       "      <td>1</td>\n",
       "      <td>2090398</td>\n",
       "      <td>1</td>\n",
       "      <td>198303</td>\n",
       "      <td>15101</td>\n",
       "      <td>8</td>\n",
       "      <td>0</td>\n",
       "      <td>0</td>\n",
       "      <td>15</td>\n",
       "    </tr>\n",
       "    <tr>\n",
       "      <th>1</th>\n",
       "      <td>8</td>\n",
       "      <td>151</td>\n",
       "      <td>1</td>\n",
       "      <td>4360702</td>\n",
       "      <td>2</td>\n",
       "      <td>198207</td>\n",
       "      <td>15101</td>\n",
       "      <td>8</td>\n",
       "      <td>21</td>\n",
       "      <td>1</td>\n",
       "      <td>15</td>\n",
       "    </tr>\n",
       "    <tr>\n",
       "      <th>2</th>\n",
       "      <td>8</td>\n",
       "      <td>151</td>\n",
       "      <td>1</td>\n",
       "      <td>8284609</td>\n",
       "      <td>2</td>\n",
       "      <td>200410</td>\n",
       "      <td>15101</td>\n",
       "      <td>8</td>\n",
       "      <td>0</td>\n",
       "      <td>0</td>\n",
       "      <td>15</td>\n",
       "    </tr>\n",
       "    <tr>\n",
       "      <th>3</th>\n",
       "      <td>8</td>\n",
       "      <td>151</td>\n",
       "      <td>1</td>\n",
       "      <td>8481824</td>\n",
       "      <td>2</td>\n",
       "      <td>198509</td>\n",
       "      <td>15101</td>\n",
       "      <td>8</td>\n",
       "      <td>21</td>\n",
       "      <td>1</td>\n",
       "      <td>15</td>\n",
       "    </tr>\n",
       "    <tr>\n",
       "      <th>4</th>\n",
       "      <td>8</td>\n",
       "      <td>151</td>\n",
       "      <td>1</td>\n",
       "      <td>14639657</td>\n",
       "      <td>2</td>\n",
       "      <td>200401</td>\n",
       "      <td>15101</td>\n",
       "      <td>8</td>\n",
       "      <td>0</td>\n",
       "      <td>0</td>\n",
       "      <td>15</td>\n",
       "    </tr>\n",
       "    <tr>\n",
       "      <th>5</th>\n",
       "      <td>8</td>\n",
       "      <td>151</td>\n",
       "      <td>1</td>\n",
       "      <td>23339704</td>\n",
       "      <td>2</td>\n",
       "      <td>196711</td>\n",
       "      <td>15101</td>\n",
       "      <td>8</td>\n",
       "      <td>21</td>\n",
       "      <td>1</td>\n",
       "      <td>15</td>\n",
       "    </tr>\n",
       "    <tr>\n",
       "      <th>6</th>\n",
       "      <td>8</td>\n",
       "      <td>151</td>\n",
       "      <td>1</td>\n",
       "      <td>26921481</td>\n",
       "      <td>2</td>\n",
       "      <td>198303</td>\n",
       "      <td>15101</td>\n",
       "      <td>8</td>\n",
       "      <td>21</td>\n",
       "      <td>1</td>\n",
       "      <td>15</td>\n",
       "    </tr>\n",
       "    <tr>\n",
       "      <th>7</th>\n",
       "      <td>8</td>\n",
       "      <td>151</td>\n",
       "      <td>1</td>\n",
       "      <td>27208038</td>\n",
       "      <td>2</td>\n",
       "      <td>200409</td>\n",
       "      <td>15101</td>\n",
       "      <td>8</td>\n",
       "      <td>0</td>\n",
       "      <td>0</td>\n",
       "      <td>15</td>\n",
       "    </tr>\n",
       "    <tr>\n",
       "      <th>8</th>\n",
       "      <td>8</td>\n",
       "      <td>151</td>\n",
       "      <td>1</td>\n",
       "      <td>116270</td>\n",
       "      <td>1</td>\n",
       "      <td>200405</td>\n",
       "      <td>15101</td>\n",
       "      <td>8</td>\n",
       "      <td>0</td>\n",
       "      <td>0</td>\n",
       "      <td>15</td>\n",
       "    </tr>\n",
       "    <tr>\n",
       "      <th>9</th>\n",
       "      <td>8</td>\n",
       "      <td>151</td>\n",
       "      <td>1</td>\n",
       "      <td>459781</td>\n",
       "      <td>1</td>\n",
       "      <td>198107</td>\n",
       "      <td>15101</td>\n",
       "      <td>8</td>\n",
       "      <td>21</td>\n",
       "      <td>1</td>\n",
       "      <td>15</td>\n",
       "    </tr>\n",
       "  </tbody>\n",
       "</table>\n",
       "</div>"
      ],
      "text/plain": [
       "   MES_ESCOLAR  COD_PRO_RBD  RBD      MRUN  GEN_ALU  FEC_NAC_ALU  COD_COM_ALU  \\\n",
       "0            8          151    1   2090398        1       198303        15101   \n",
       "1            8          151    1   4360702        2       198207        15101   \n",
       "2            8          151    1   8284609        2       200410        15101   \n",
       "3            8          151    1   8481824        2       198509        15101   \n",
       "4            8          151    1  14639657        2       200401        15101   \n",
       "5            8          151    1  23339704        2       196711        15101   \n",
       "6            8          151    1  26921481        2       198303        15101   \n",
       "7            8          151    1  27208038        2       200409        15101   \n",
       "8            8          151    1    116270        1       200405        15101   \n",
       "9            8          151    1    459781        1       198107        15101   \n",
       "\n",
       "   COD_ENSE2  DIAS_ASISTIDOS ASIS_PROMEDIO  COD_REG_RBD  \n",
       "0          8               0             0           15  \n",
       "1          8              21             1           15  \n",
       "2          8               0             0           15  \n",
       "3          8              21             1           15  \n",
       "4          8               0             0           15  \n",
       "5          8              21             1           15  \n",
       "6          8              21             1           15  \n",
       "7          8               0             0           15  \n",
       "8          8               0             0           15  \n",
       "9          8              21             1           15  "
      ]
     },
     "execution_count": 26,
     "metadata": {},
     "output_type": "execute_result"
    }
   ],
   "source": [
    "df.head(10)"
   ]
  },
  {
   "cell_type": "code",
   "execution_count": 5,
   "metadata": {},
   "outputs": [
    {
     "name": "stdout",
     "output_type": "stream",
     "text": [
      "<class 'pandas.core.frame.DataFrame'>\n",
      "RangeIndex: 3617236 entries, 0 to 3617235\n",
      "Data columns (total 11 columns):\n",
      " #   Column           Dtype \n",
      "---  ------           ----- \n",
      " 0   MES_ESCOLAR      int64 \n",
      " 1   COD_PRO_RBD      int64 \n",
      " 2   RBD              int64 \n",
      " 3   MRUN             int64 \n",
      " 4   GEN_ALU          int64 \n",
      " 5   FEC_NAC_ALU      int64 \n",
      " 6   COD_COM_ALU      int64 \n",
      " 7   COD_ENSE2        int64 \n",
      " 8   DIAS_ASISTIDOS   int64 \n",
      " 9   DIAS_TRABAJADOS  int64 \n",
      " 10  ASIS_PROMEDIO    object\n",
      "dtypes: int64(10), object(1)\n",
      "memory usage: 303.6+ MB\n"
     ]
    }
   ],
   "source": [
    "df.info()"
   ]
  },
  {
   "cell_type": "markdown",
   "metadata": {},
   "source": [
    "## 3. Limpieza de datos\n",
    "A continuación se limpiará el conjunto de datos que se utilizará en este cuaderno de Jupyter."
   ]
  },
  {
   "cell_type": "markdown",
   "metadata": {},
   "source": [
    "### 3.1 Filtro de comunas\n",
    "Primero que todo, aseguraremos que los datos se encuentren solo en las comunas de 'Copiapo' o 'Santiago'."
   ]
  },
  {
   "cell_type": "code",
   "execution_count": 31,
   "metadata": {},
   "outputs": [],
   "source": [
    "# Asegura que 'COD_PRO_RBD', la provincia  sea igual a COPIAPÓ o que COD_REG_RBD, corresponda\n",
    "# a la región SANTIAGO\n",
    "df = df[(df['COD_PRO_RBD'] == 31) | (df['COD_REG_RBD'] == 13)]"
   ]
  },
  {
   "cell_type": "code",
   "execution_count": null,
   "metadata": {},
   "outputs": [],
   "source": []
  },
  {
   "cell_type": "code",
   "execution_count": 32,
   "metadata": {},
   "outputs": [
    {
     "data": {
      "text/html": [
       "<div>\n",
       "<style scoped>\n",
       "    .dataframe tbody tr th:only-of-type {\n",
       "        vertical-align: middle;\n",
       "    }\n",
       "\n",
       "    .dataframe tbody tr th {\n",
       "        vertical-align: top;\n",
       "    }\n",
       "\n",
       "    .dataframe thead th {\n",
       "        text-align: right;\n",
       "    }\n",
       "</style>\n",
       "<table border=\"1\" class=\"dataframe\">\n",
       "  <thead>\n",
       "    <tr style=\"text-align: right;\">\n",
       "      <th></th>\n",
       "      <th>MES_ESCOLAR</th>\n",
       "      <th>COD_PRO_RBD</th>\n",
       "      <th>RBD</th>\n",
       "      <th>MRUN</th>\n",
       "      <th>GEN_ALU</th>\n",
       "      <th>FEC_NAC_ALU</th>\n",
       "      <th>COD_COM_ALU</th>\n",
       "      <th>COD_ENSE2</th>\n",
       "      <th>DIAS_ASISTIDOS</th>\n",
       "      <th>ASIS_PROMEDIO</th>\n",
       "      <th>COD_REG_RBD</th>\n",
       "    </tr>\n",
       "  </thead>\n",
       "  <tbody>\n",
       "    <tr>\n",
       "      <th>136669</th>\n",
       "      <td>8</td>\n",
       "      <td>31</td>\n",
       "      <td>396</td>\n",
       "      <td>2112520</td>\n",
       "      <td>2</td>\n",
       "      <td>200901</td>\n",
       "      <td>3101</td>\n",
       "      <td>7</td>\n",
       "      <td>14</td>\n",
       "      <td>,7</td>\n",
       "      <td>3</td>\n",
       "    </tr>\n",
       "    <tr>\n",
       "      <th>136670</th>\n",
       "      <td>8</td>\n",
       "      <td>31</td>\n",
       "      <td>396</td>\n",
       "      <td>2732660</td>\n",
       "      <td>1</td>\n",
       "      <td>200707</td>\n",
       "      <td>3101</td>\n",
       "      <td>7</td>\n",
       "      <td>0</td>\n",
       "      <td>0</td>\n",
       "      <td>3</td>\n",
       "    </tr>\n",
       "    <tr>\n",
       "      <th>136671</th>\n",
       "      <td>8</td>\n",
       "      <td>31</td>\n",
       "      <td>396</td>\n",
       "      <td>3962434</td>\n",
       "      <td>1</td>\n",
       "      <td>200901</td>\n",
       "      <td>3101</td>\n",
       "      <td>7</td>\n",
       "      <td>12</td>\n",
       "      <td>,6</td>\n",
       "      <td>3</td>\n",
       "    </tr>\n",
       "    <tr>\n",
       "      <th>136672</th>\n",
       "      <td>8</td>\n",
       "      <td>31</td>\n",
       "      <td>396</td>\n",
       "      <td>4199164</td>\n",
       "      <td>1</td>\n",
       "      <td>200707</td>\n",
       "      <td>3101</td>\n",
       "      <td>7</td>\n",
       "      <td>10</td>\n",
       "      <td>,5</td>\n",
       "      <td>3</td>\n",
       "    </tr>\n",
       "    <tr>\n",
       "      <th>136673</th>\n",
       "      <td>8</td>\n",
       "      <td>31</td>\n",
       "      <td>396</td>\n",
       "      <td>4218504</td>\n",
       "      <td>2</td>\n",
       "      <td>200812</td>\n",
       "      <td>3101</td>\n",
       "      <td>7</td>\n",
       "      <td>15</td>\n",
       "      <td>,75</td>\n",
       "      <td>3</td>\n",
       "    </tr>\n",
       "    <tr>\n",
       "      <th>...</th>\n",
       "      <td>...</td>\n",
       "      <td>...</td>\n",
       "      <td>...</td>\n",
       "      <td>...</td>\n",
       "      <td>...</td>\n",
       "      <td>...</td>\n",
       "      <td>...</td>\n",
       "      <td>...</td>\n",
       "      <td>...</td>\n",
       "      <td>...</td>\n",
       "      <td>...</td>\n",
       "    </tr>\n",
       "    <tr>\n",
       "      <th>3560729</th>\n",
       "      <td>8</td>\n",
       "      <td>132</td>\n",
       "      <td>42130</td>\n",
       "      <td>2857442</td>\n",
       "      <td>2</td>\n",
       "      <td>200412</td>\n",
       "      <td>13112</td>\n",
       "      <td>5</td>\n",
       "      <td>21</td>\n",
       "      <td>1</td>\n",
       "      <td>13</td>\n",
       "    </tr>\n",
       "    <tr>\n",
       "      <th>3560730</th>\n",
       "      <td>8</td>\n",
       "      <td>132</td>\n",
       "      <td>42130</td>\n",
       "      <td>6558633</td>\n",
       "      <td>1</td>\n",
       "      <td>200602</td>\n",
       "      <td>13201</td>\n",
       "      <td>5</td>\n",
       "      <td>15</td>\n",
       "      <td>,714285714285714</td>\n",
       "      <td>13</td>\n",
       "    </tr>\n",
       "    <tr>\n",
       "      <th>3560731</th>\n",
       "      <td>8</td>\n",
       "      <td>132</td>\n",
       "      <td>42130</td>\n",
       "      <td>7703722</td>\n",
       "      <td>1</td>\n",
       "      <td>200101</td>\n",
       "      <td>13201</td>\n",
       "      <td>5</td>\n",
       "      <td>21</td>\n",
       "      <td>1</td>\n",
       "      <td>13</td>\n",
       "    </tr>\n",
       "    <tr>\n",
       "      <th>3560732</th>\n",
       "      <td>8</td>\n",
       "      <td>132</td>\n",
       "      <td>42130</td>\n",
       "      <td>8756721</td>\n",
       "      <td>2</td>\n",
       "      <td>200301</td>\n",
       "      <td>13111</td>\n",
       "      <td>5</td>\n",
       "      <td>21</td>\n",
       "      <td>1</td>\n",
       "      <td>13</td>\n",
       "    </tr>\n",
       "    <tr>\n",
       "      <th>3560733</th>\n",
       "      <td>8</td>\n",
       "      <td>132</td>\n",
       "      <td>42130</td>\n",
       "      <td>14750055</td>\n",
       "      <td>1</td>\n",
       "      <td>200106</td>\n",
       "      <td>13201</td>\n",
       "      <td>5</td>\n",
       "      <td>21</td>\n",
       "      <td>1</td>\n",
       "      <td>13</td>\n",
       "    </tr>\n",
       "  </tbody>\n",
       "</table>\n",
       "<p>1321594 rows × 11 columns</p>\n",
       "</div>"
      ],
      "text/plain": [
       "         MES_ESCOLAR  COD_PRO_RBD    RBD      MRUN  GEN_ALU  FEC_NAC_ALU  \\\n",
       "136669             8           31    396   2112520        2       200901   \n",
       "136670             8           31    396   2732660        1       200707   \n",
       "136671             8           31    396   3962434        1       200901   \n",
       "136672             8           31    396   4199164        1       200707   \n",
       "136673             8           31    396   4218504        2       200812   \n",
       "...              ...          ...    ...       ...      ...          ...   \n",
       "3560729            8          132  42130   2857442        2       200412   \n",
       "3560730            8          132  42130   6558633        1       200602   \n",
       "3560731            8          132  42130   7703722        1       200101   \n",
       "3560732            8          132  42130   8756721        2       200301   \n",
       "3560733            8          132  42130  14750055        1       200106   \n",
       "\n",
       "         COD_COM_ALU  COD_ENSE2  DIAS_ASISTIDOS     ASIS_PROMEDIO  COD_REG_RBD  \n",
       "136669          3101          7              14                ,7            3  \n",
       "136670          3101          7               0                 0            3  \n",
       "136671          3101          7              12                ,6            3  \n",
       "136672          3101          7              10                ,5            3  \n",
       "136673          3101          7              15               ,75            3  \n",
       "...              ...        ...             ...               ...          ...  \n",
       "3560729        13112          5              21                 1           13  \n",
       "3560730        13201          5              15  ,714285714285714           13  \n",
       "3560731        13201          5              21                 1           13  \n",
       "3560732        13111          5              21                 1           13  \n",
       "3560733        13201          5              21                 1           13  \n",
       "\n",
       "[1321594 rows x 11 columns]"
      ]
     },
     "execution_count": 32,
     "metadata": {},
     "output_type": "execute_result"
    }
   ],
   "source": [
    "df"
   ]
  },
  {
   "cell_type": "markdown",
   "metadata": {},
   "source": [
    "### 3.2 Filtro de tipo de enseñanza\n",
    "A continuación, aseguraremos que los datos se encuentren solo en los tipos de enseñanza 'Básica Niños' 'Educación Media Humanistíco Científica Jóvenes' o 'Educación Media Técnico Profesional y Artística, Jóvenes'."
   ]
  },
  {
   "cell_type": "code",
   "execution_count": 33,
   "metadata": {},
   "outputs": [],
   "source": [
    "# Asegura que 'COD_ENSE2' sea igual a 2 (Educación básica) o 5 (Humanista Cientifico) o 7 (Técnico Profesional)\n",
    "df  = df[df['COD_ENSE2'].isin([2, 5, 7])]"
   ]
  },
  {
   "cell_type": "markdown",
   "metadata": {},
   "source": [
    "### 3.3 Filtro de errores en los datos\n",
    "Ahora se eliminarán las filas que contengan errores o no posean sentido."
   ]
  },
  {
   "cell_type": "code",
   "execution_count": 34,
   "metadata": {},
   "outputs": [],
   "source": [
    "# Asegura que 'GEN_ALU' no sea igual a 0 (Sin información)\n",
    "df = df[df['GEN_ALU'] != 0]"
   ]
  },
  {
   "cell_type": "code",
   "execution_count": 35,
   "metadata": {},
   "outputs": [],
   "source": [
    "# Asegura que 'FEC_NAC_ALU' no sea igual a 190001 o 180001 (Sin información)\n",
    "df = df[(df['FEC_NAC_ALU'] != 190001) & (df['FEC_NAC_ALU'] != 180001)]"
   ]
  },
  {
   "cell_type": "code",
   "execution_count": 36,
   "metadata": {},
   "outputs": [],
   "source": [
    "# Asegura que 'DIAS_ASISTIDOS' sea distinto a 0 (Retirado del colegio)\n",
    "df = df[df['DIAS_ASISTIDOS'] != 0]"
   ]
  },
  {
   "cell_type": "code",
   "execution_count": 37,
   "metadata": {},
   "outputs": [],
   "source": [
    "\"Importante para el procesamiento\"\n",
    "# Asegura que 'COD_COM_ALU' empieze con 13 (RM) o 31 (Copiapó)\n",
    "df['COD_COM_ALU'] = df['COD_COM_ALU'].astype(str)\n",
    "df = df[(df['COD_COM_ALU'].str.startswith('13')) | (df['COD_COM_ALU'].str.startswith('31'))]\n",
    "df['COD_COM_ALU'] = df['COD_COM_ALU'].astype(int)"
   ]
  },
  {
   "cell_type": "code",
   "execution_count": 38,
   "metadata": {},
   "outputs": [
    {
     "name": "stdout",
     "output_type": "stream",
     "text": [
      "[ 31 131 135 134 132 133 136]\n",
      "[ 3101  3103  3102 13109 13105 13601 13101 13403 13127 13117 13110 13128\n",
      " 13201 13119 13125 13503 13124 13302 13121 13303 13116 13504 13108 13106\n",
      " 13505 13404 13131 13501 13111 13126 13301 13112 13602 13102 13103 13130\n",
      " 13122 13123 13604 13104 13401 13129 13605 13114 13107 13402 13120 13113\n",
      " 13118 13603 13202 13115 13132 13203 13502]\n"
     ]
    }
   ],
   "source": [
    "# Imprime las comunas de los colegios y las comunas de los alumnos\n",
    "print(df['COD_PRO_RBD'].unique())\n",
    "print(df['COD_COM_ALU'].unique())"
   ]
  },
  {
   "cell_type": "code",
   "execution_count": 39,
   "metadata": {},
   "outputs": [],
   "source": [
    "# Elimina del dataframe las filas que contienen valores nulos o duplicados\n",
    "df = df.dropna()\n",
    "df = df.drop_duplicates()"
   ]
  },
  {
   "cell_type": "markdown",
   "metadata": {},
   "source": [
    "### 3.4 Asegurando el correcto tipo de datos\n",
    "Ahora aseguraremos que los datos se encuentren en el tipo de datos correcto"
   ]
  },
  {
   "cell_type": "code",
   "execution_count": 40,
   "metadata": {},
   "outputs": [
    {
     "name": "stdout",
     "output_type": "stream",
     "text": [
      "<class 'pandas.core.frame.DataFrame'>\n",
      "Int64Index: 964827 entries, 136669 to 3560733\n",
      "Data columns (total 11 columns):\n",
      " #   Column          Non-Null Count   Dtype \n",
      "---  ------          --------------   ----- \n",
      " 0   MES_ESCOLAR     964827 non-null  int64 \n",
      " 1   COD_PRO_RBD     964827 non-null  int64 \n",
      " 2   RBD             964827 non-null  int64 \n",
      " 3   MRUN            964827 non-null  int64 \n",
      " 4   GEN_ALU         964827 non-null  int64 \n",
      " 5   FEC_NAC_ALU     964827 non-null  int64 \n",
      " 6   COD_COM_ALU     964827 non-null  int64 \n",
      " 7   COD_ENSE2       964827 non-null  int64 \n",
      " 8   DIAS_ASISTIDOS  964827 non-null  int64 \n",
      " 9   ASIS_PROMEDIO   964827 non-null  object\n",
      " 10  COD_REG_RBD     964827 non-null  int64 \n",
      "dtypes: int64(10), object(1)\n",
      "memory usage: 88.3+ MB\n"
     ]
    }
   ],
   "source": [
    "# Aseguramos que el tipo de datos correcto para todas las columnas\n",
    "df.info()"
   ]
  },
  {
   "cell_type": "code",
   "execution_count": 41,
   "metadata": {},
   "outputs": [],
   "source": [
    "# Cambiand el tipo de dato de 'ASIS_PROMEDIO' a float\n",
    "# Por ejemplo \",0\" pasará a ser 0.0\n",
    "df['ASIS_PROMEDIO'] = df['ASIS_PROMEDIO'].apply(lambda x: x.replace(',', '.')).astype(float)"
   ]
  },
  {
   "cell_type": "markdown",
   "metadata": {},
   "source": [
    "## 4. Cambio de nombre de columnas\n",
    "A continuación se cambiará el nombre de las columnas del conjunto de datos."
   ]
  },
  {
   "cell_type": "code",
   "execution_count": 42,
   "metadata": {},
   "outputs": [],
   "source": [
    "# Renombra RUN_ALUMNO a MRUN\n",
    "df = df.rename(columns={'RUN_ALUMNO': 'MRUN'})"
   ]
  },
  {
   "cell_type": "markdown",
   "metadata": {},
   "source": [
    "## 5. Exportación de datos\n",
    "Finalmente, se exportará el conjunto de datos limpio a un archivo csv."
   ]
  },
  {
   "cell_type": "code",
   "execution_count": 43,
   "metadata": {},
   "outputs": [],
   "source": [
    "# Export data\n",
    "df.to_csv('output_data/asistencia.csv', index=False)"
   ]
  }
 ],
 "metadata": {
  "kernelspec": {
   "display_name": "Python 3",
   "language": "python",
   "name": "python3"
  },
  "language_info": {
   "codemirror_mode": {
    "name": "ipython",
    "version": 3
   },
   "file_extension": ".py",
   "mimetype": "text/x-python",
   "name": "python",
   "nbconvert_exporter": "python",
   "pygments_lexer": "ipython3",
   "version": "3.11.4"
  }
 },
 "nbformat": 4,
 "nbformat_minor": 2
}
