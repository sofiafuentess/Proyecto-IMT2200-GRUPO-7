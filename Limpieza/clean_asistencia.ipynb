{
 "cells": [
  {
   "cell_type": "markdown",
   "metadata": {},
   "source": [
    "# Limpieza de datos de asistencia escolar\n",
    "\n",
    "En este cuaderno de Jupyter, se limpiará los datos ligados a la asistencia escolar en Chile.\n",
    "\n",
    "El conjunto de datos utilizado en este análisis se encuentra en el archivo \"Asistencia.csv\", el cual contiene información sobre la asistencia de los estudiantes en diferentes escuelas de Chile. El conjunto de datos incluye información sobre el mes escolar, el RBD de la escuela, el RUN del alumno, el género del alumno, la fecha de nacimiento del alumno, la comuna del alumno, los días asistidos, los días trabajados y la asistencia promedio."
   ]
  },
  {
   "cell_type": "markdown",
   "metadata": {},
   "source": [
    "## 1. Importación de librerías\n",
    "A continuación se importarán las librerías que se utilizarán en este cuaderno de Jupyter."
   ]
  },
  {
   "cell_type": "code",
   "execution_count": 59,
   "metadata": {},
   "outputs": [],
   "source": [
    "import pandas as pd"
   ]
  },
  {
   "cell_type": "markdown",
   "metadata": {},
   "source": [
    "## 2. Carga de datos\n",
    "A continuación se cargará el conjunto de datos que se utilizará en este cuaderno de Jupyter."
   ]
  },
  {
   "cell_type": "code",
   "execution_count": 60,
   "metadata": {},
   "outputs": [],
   "source": [
    "df = pd.read_csv('../data/Asistencia.csv', sep=';')"
   ]
  },
  {
   "cell_type": "markdown",
   "metadata": {},
   "source": [
    "### 2.1 Columnas a utilizar\n",
    "Las columnas que utilizaremos en este cuaderno de Jupyter son las siguientes:\n",
    "- `MES_ESCOLAR`: Mes escolar\n",
    "- `COD_PRO_RBD`: Código de la provincia del RBD\n",
    "- `RBD`: RBD de la escuela\n",
    "- `MRUN`: RUN del alumno\n",
    "- `GEN_ALU`: Sexo del alumno\n",
    "- `FEC_NAC_ALU`: Fecha de nacimiento del alumno\n",
    "- `COD_COM_ALU`: Número de la comuna del alumno\n",
    "- `COD_ENSE2`: Código de enseñanza agrupados\n",
    "- `DIA_ASISISTIDOS`: Días asistidos\n",
    "- `DIA_TRABAJADOS`: Días trabajados\n",
    "- `ASIS_PROMEDIO`: Asistencia promedio"
   ]
  },
  {
   "cell_type": "code",
   "execution_count": 61,
   "metadata": {},
   "outputs": [],
   "source": [
    "# Mantiene las columnas que se encuentran en la lista\n",
    "columns = ['MES_ESCOLAR', 'COD_PRO_RBD', 'RBD', 'MRUN', 'GEN_ALU', 'FEC_NAC_ALU', 'COD_COM_ALU', 'COD_ENSE2', 'DIAS_ASISTIDOS', 'DIAS_TRABAJADOS', 'ASIS_PROMEDIO']\n",
    "df = df[columns]"
   ]
  },
  {
   "cell_type": "code",
   "execution_count": 62,
   "metadata": {},
   "outputs": [
    {
     "data": {
      "text/html": [
       "<div>\n",
       "<style scoped>\n",
       "    .dataframe tbody tr th:only-of-type {\n",
       "        vertical-align: middle;\n",
       "    }\n",
       "\n",
       "    .dataframe tbody tr th {\n",
       "        vertical-align: top;\n",
       "    }\n",
       "\n",
       "    .dataframe thead th {\n",
       "        text-align: right;\n",
       "    }\n",
       "</style>\n",
       "<table border=\"1\" class=\"dataframe\">\n",
       "  <thead>\n",
       "    <tr style=\"text-align: right;\">\n",
       "      <th></th>\n",
       "      <th>MES_ESCOLAR</th>\n",
       "      <th>COD_PRO_RBD</th>\n",
       "      <th>RBD</th>\n",
       "      <th>MRUN</th>\n",
       "      <th>GEN_ALU</th>\n",
       "      <th>FEC_NAC_ALU</th>\n",
       "      <th>COD_COM_ALU</th>\n",
       "      <th>COD_ENSE2</th>\n",
       "      <th>DIAS_ASISTIDOS</th>\n",
       "      <th>DIAS_TRABAJADOS</th>\n",
       "      <th>ASIS_PROMEDIO</th>\n",
       "    </tr>\n",
       "  </thead>\n",
       "  <tbody>\n",
       "    <tr>\n",
       "      <th>0</th>\n",
       "      <td>8</td>\n",
       "      <td>151</td>\n",
       "      <td>1</td>\n",
       "      <td>459781</td>\n",
       "      <td>1</td>\n",
       "      <td>198107</td>\n",
       "      <td>15101</td>\n",
       "      <td>8</td>\n",
       "      <td>22</td>\n",
       "      <td>22</td>\n",
       "      <td>1</td>\n",
       "    </tr>\n",
       "    <tr>\n",
       "      <th>1</th>\n",
       "      <td>8</td>\n",
       "      <td>151</td>\n",
       "      <td>1</td>\n",
       "      <td>974395</td>\n",
       "      <td>2</td>\n",
       "      <td>196702</td>\n",
       "      <td>15101</td>\n",
       "      <td>8</td>\n",
       "      <td>0</td>\n",
       "      <td>22</td>\n",
       "      <td>0</td>\n",
       "    </tr>\n",
       "    <tr>\n",
       "      <th>2</th>\n",
       "      <td>8</td>\n",
       "      <td>151</td>\n",
       "      <td>1</td>\n",
       "      <td>1959596</td>\n",
       "      <td>1</td>\n",
       "      <td>197706</td>\n",
       "      <td>15101</td>\n",
       "      <td>8</td>\n",
       "      <td>0</td>\n",
       "      <td>22</td>\n",
       "      <td>0</td>\n",
       "    </tr>\n",
       "    <tr>\n",
       "      <th>3</th>\n",
       "      <td>8</td>\n",
       "      <td>151</td>\n",
       "      <td>1</td>\n",
       "      <td>2267103</td>\n",
       "      <td>2</td>\n",
       "      <td>200102</td>\n",
       "      <td>15101</td>\n",
       "      <td>8</td>\n",
       "      <td>0</td>\n",
       "      <td>22</td>\n",
       "      <td>0</td>\n",
       "    </tr>\n",
       "    <tr>\n",
       "      <th>4</th>\n",
       "      <td>8</td>\n",
       "      <td>151</td>\n",
       "      <td>1</td>\n",
       "      <td>2306638</td>\n",
       "      <td>1</td>\n",
       "      <td>200309</td>\n",
       "      <td>15101</td>\n",
       "      <td>8</td>\n",
       "      <td>0</td>\n",
       "      <td>22</td>\n",
       "      <td>0</td>\n",
       "    </tr>\n",
       "    <tr>\n",
       "      <th>5</th>\n",
       "      <td>8</td>\n",
       "      <td>151</td>\n",
       "      <td>1</td>\n",
       "      <td>4332937</td>\n",
       "      <td>2</td>\n",
       "      <td>197207</td>\n",
       "      <td>15101</td>\n",
       "      <td>8</td>\n",
       "      <td>0</td>\n",
       "      <td>22</td>\n",
       "      <td>0</td>\n",
       "    </tr>\n",
       "    <tr>\n",
       "      <th>6</th>\n",
       "      <td>8</td>\n",
       "      <td>151</td>\n",
       "      <td>1</td>\n",
       "      <td>6602653</td>\n",
       "      <td>1</td>\n",
       "      <td>197812</td>\n",
       "      <td>15101</td>\n",
       "      <td>8</td>\n",
       "      <td>22</td>\n",
       "      <td>22</td>\n",
       "      <td>1</td>\n",
       "    </tr>\n",
       "    <tr>\n",
       "      <th>7</th>\n",
       "      <td>8</td>\n",
       "      <td>151</td>\n",
       "      <td>1</td>\n",
       "      <td>7154241</td>\n",
       "      <td>1</td>\n",
       "      <td>200104</td>\n",
       "      <td>15101</td>\n",
       "      <td>8</td>\n",
       "      <td>0</td>\n",
       "      <td>22</td>\n",
       "      <td>0</td>\n",
       "    </tr>\n",
       "    <tr>\n",
       "      <th>8</th>\n",
       "      <td>8</td>\n",
       "      <td>151</td>\n",
       "      <td>1</td>\n",
       "      <td>9715496</td>\n",
       "      <td>2</td>\n",
       "      <td>199909</td>\n",
       "      <td>15101</td>\n",
       "      <td>8</td>\n",
       "      <td>0</td>\n",
       "      <td>22</td>\n",
       "      <td>0</td>\n",
       "    </tr>\n",
       "    <tr>\n",
       "      <th>9</th>\n",
       "      <td>8</td>\n",
       "      <td>151</td>\n",
       "      <td>1</td>\n",
       "      <td>17443273</td>\n",
       "      <td>2</td>\n",
       "      <td>197404</td>\n",
       "      <td>15101</td>\n",
       "      <td>8</td>\n",
       "      <td>22</td>\n",
       "      <td>22</td>\n",
       "      <td>1</td>\n",
       "    </tr>\n",
       "  </tbody>\n",
       "</table>\n",
       "</div>"
      ],
      "text/plain": [
       "   MES_ESCOLAR  COD_PRO_RBD  RBD      MRUN  GEN_ALU  FEC_NAC_ALU  COD_COM_ALU  \\\n",
       "0            8          151    1    459781        1       198107        15101   \n",
       "1            8          151    1    974395        2       196702        15101   \n",
       "2            8          151    1   1959596        1       197706        15101   \n",
       "3            8          151    1   2267103        2       200102        15101   \n",
       "4            8          151    1   2306638        1       200309        15101   \n",
       "5            8          151    1   4332937        2       197207        15101   \n",
       "6            8          151    1   6602653        1       197812        15101   \n",
       "7            8          151    1   7154241        1       200104        15101   \n",
       "8            8          151    1   9715496        2       199909        15101   \n",
       "9            8          151    1  17443273        2       197404        15101   \n",
       "\n",
       "   COD_ENSE2  DIAS_ASISTIDOS  DIAS_TRABAJADOS ASIS_PROMEDIO  \n",
       "0          8              22               22             1  \n",
       "1          8               0               22             0  \n",
       "2          8               0               22             0  \n",
       "3          8               0               22             0  \n",
       "4          8               0               22             0  \n",
       "5          8               0               22             0  \n",
       "6          8              22               22             1  \n",
       "7          8               0               22             0  \n",
       "8          8               0               22             0  \n",
       "9          8              22               22             1  "
      ]
     },
     "execution_count": 62,
     "metadata": {},
     "output_type": "execute_result"
    }
   ],
   "source": [
    "df.head(10)"
   ]
  },
  {
   "cell_type": "code",
   "execution_count": 63,
   "metadata": {},
   "outputs": [
    {
     "name": "stdout",
     "output_type": "stream",
     "text": [
      "<class 'pandas.core.frame.DataFrame'>\n",
      "RangeIndex: 3617236 entries, 0 to 3617235\n",
      "Data columns (total 11 columns):\n",
      " #   Column           Dtype \n",
      "---  ------           ----- \n",
      " 0   MES_ESCOLAR      int64 \n",
      " 1   COD_PRO_RBD      int64 \n",
      " 2   RBD              int64 \n",
      " 3   MRUN             int64 \n",
      " 4   GEN_ALU          int64 \n",
      " 5   FEC_NAC_ALU      int64 \n",
      " 6   COD_COM_ALU      int64 \n",
      " 7   COD_ENSE2        int64 \n",
      " 8   DIAS_ASISTIDOS   int64 \n",
      " 9   DIAS_TRABAJADOS  int64 \n",
      " 10  ASIS_PROMEDIO    object\n",
      "dtypes: int64(10), object(1)\n",
      "memory usage: 303.6+ MB\n"
     ]
    }
   ],
   "source": [
    "df.info()"
   ]
  },
  {
   "cell_type": "markdown",
   "metadata": {},
   "source": [
    "## 3. Limpieza de datos\n",
    "A continuación se limpiará el conjunto de datos que se utilizará en este cuaderno de Jupyter."
   ]
  },
  {
   "cell_type": "markdown",
   "metadata": {},
   "source": [
    "### 3.1 Filtro de comunas\n",
    "Primero que todo, aseguraremos que los datos se encuentren solo en las comunas de 'Copiapo' o 'Santiago'."
   ]
  },
  {
   "cell_type": "code",
   "execution_count": 64,
   "metadata": {},
   "outputs": [],
   "source": [
    "# Asegura que 'COD_PRO_RBD', la provincia  sea igual a COPIAPÓ o SANTIAGO\n",
    "df = df[(df['COD_PRO_RBD'] == 31) | (df['COD_PRO_RBD'] == 131)]"
   ]
  },
  {
   "cell_type": "markdown",
   "metadata": {},
   "source": [
    "### 3.2 Filtro de tipo de enseñanza\n",
    "A continuación, aseguraremos que los datos se encuentren solo en los tipos de enseñanza 'Básica Niños' 'Educación Media Humanistíco Científica Jóvenes' o 'Educación Media Técnico Profesional y Artística, Jóvenes'."
   ]
  },
  {
   "cell_type": "code",
   "execution_count": 65,
   "metadata": {},
   "outputs": [],
   "source": [
    "# Asegura que 'COD_ENSE2' sea igual a 2 (Educación básica) o 5 (Humanista Cientifico) o 7 (Técnico Profesional)\n",
    "df  = df[df['COD_ENSE2'].isin([2, 5, 7])]"
   ]
  },
  {
   "cell_type": "markdown",
   "metadata": {},
   "source": [
    "### 3.3 Filtro de errores en los datos\n",
    "Ahora se eliminarán las filas que contengan errores o no posean sentido."
   ]
  },
  {
   "cell_type": "code",
   "execution_count": 66,
   "metadata": {},
   "outputs": [],
   "source": [
    "# Asegura que 'GEN_ALU' no sea igual a 0 (Sin información)\n",
    "df = df[df['GEN_ALU'] != 0]"
   ]
  },
  {
   "cell_type": "code",
   "execution_count": 67,
   "metadata": {},
   "outputs": [],
   "source": [
    "# Asegura que 'FEC_NAC_ALU' no sea igual a 190001 o 180001 (Sin información)\n",
    "df = df[(df['FEC_NAC_ALU'] != 190001) & (df['FEC_NAC_ALU'] != 180001)]"
   ]
  },
  {
   "cell_type": "code",
   "execution_count": 68,
   "metadata": {},
   "outputs": [],
   "source": [
    "# Asegura que 'DIAS_ASISTIDOS' sea distinto a 0 (Retirado del colegio)\n",
    "df = df[df['DIAS_ASISTIDOS'] != 0]"
   ]
  },
  {
   "cell_type": "code",
   "execution_count": 69,
   "metadata": {},
   "outputs": [],
   "source": [
    "\"Importante para el procesamiento\"\n",
    "# Asegura que 'COD_COM_ALU' empieze con 131 (Santiago) o 31 (Copiapó)\n",
    "df['COD_COM_ALU'] = df['COD_COM_ALU'].astype(str)\n",
    "df = df[(df['COD_COM_ALU'].str.startswith('131')) | (df['COD_COM_ALU'].str.startswith('31'))]\n",
    "df['COD_COM_ALU'] = df['COD_COM_ALU'].astype(int)"
   ]
  },
  {
   "cell_type": "code",
   "execution_count": 70,
   "metadata": {},
   "outputs": [
    {
     "name": "stdout",
     "output_type": "stream",
     "text": [
      "[ 31 131]\n",
      "[ 3101  3103  3102 13120 13109 13105 13101 13119 13116 13125 13128 13124\n",
      " 13131 13110 13111 13126 13112 13104 13127 13102 13106 13121 13108 13114\n",
      " 13122 13123 13117 13103 13129 13130 13107 13118 13113 13115 13132]\n"
     ]
    }
   ],
   "source": [
    "# Imprime las comunas de los colegios y las comunas de los alumnos\n",
    "print(df['COD_PRO_RBD'].unique())\n",
    "print(df['COD_COM_ALU'].unique())"
   ]
  },
  {
   "cell_type": "code",
   "execution_count": 71,
   "metadata": {},
   "outputs": [],
   "source": [
    "# Elimina del dataframe las filas que contienen valores nulos o duplicados\n",
    "df = df.dropna()\n",
    "df = df.drop_duplicates()"
   ]
  },
  {
   "cell_type": "markdown",
   "metadata": {},
   "source": [
    "### 3.4 Asegurando el correcto tipo de datos\n",
    "Ahora aseguraremos que los datos se encuentren en el tipo de datos correcto"
   ]
  },
  {
   "cell_type": "code",
   "execution_count": 72,
   "metadata": {},
   "outputs": [
    {
     "name": "stdout",
     "output_type": "stream",
     "text": [
      "<class 'pandas.core.frame.DataFrame'>\n",
      "Int64Index: 653259 entries, 136805 to 3614115\n",
      "Data columns (total 11 columns):\n",
      " #   Column           Non-Null Count   Dtype \n",
      "---  ------           --------------   ----- \n",
      " 0   MES_ESCOLAR      653259 non-null  int64 \n",
      " 1   COD_PRO_RBD      653259 non-null  int64 \n",
      " 2   RBD              653259 non-null  int64 \n",
      " 3   MRUN             653259 non-null  int64 \n",
      " 4   GEN_ALU          653259 non-null  int64 \n",
      " 5   FEC_NAC_ALU      653259 non-null  int64 \n",
      " 6   COD_COM_ALU      653259 non-null  int64 \n",
      " 7   COD_ENSE2        653259 non-null  int64 \n",
      " 8   DIAS_ASISTIDOS   653259 non-null  int64 \n",
      " 9   DIAS_TRABAJADOS  653259 non-null  int64 \n",
      " 10  ASIS_PROMEDIO    653259 non-null  object\n",
      "dtypes: int64(10), object(1)\n",
      "memory usage: 59.8+ MB\n"
     ]
    }
   ],
   "source": [
    "# Aseguramos que el tipo de datos correcto para todas las columnas\n",
    "df.info()"
   ]
  },
  {
   "cell_type": "code",
   "execution_count": 73,
   "metadata": {},
   "outputs": [],
   "source": [
    "# Cambiand el tipo de dato de 'ASIS_PROMEDIO' a float\n",
    "# Por ejemplo \",0\" pasará a ser 0.0\n",
    "df['ASIS_PROMEDIO'] = df['ASIS_PROMEDIO'].apply(lambda x: x.replace(',', '.')).astype(float)"
   ]
  },
  {
   "cell_type": "markdown",
   "metadata": {},
   "source": [
    "## 4. Cambio de nombre de columnas\n",
    "A continuación se cambiará el nombre de las columnas del conjunto de datos."
   ]
  },
  {
   "cell_type": "code",
   "execution_count": 74,
   "metadata": {},
   "outputs": [],
   "source": [
    "# Renombra RUN_ALUMNO a MRUN\n",
    "df = df.rename(columns={'RUN_ALUMNO': 'MRUN'})"
   ]
  },
  {
   "cell_type": "markdown",
   "metadata": {},
   "source": [
    "## 5. Exportación de datos\n",
    "Finalmente, se exportará el conjunto de datos limpio a un archivo csv."
   ]
  },
  {
   "cell_type": "code",
   "execution_count": 75,
   "metadata": {},
   "outputs": [],
   "source": [
    "# Export data\n",
    "df.to_csv('output_data/asistencia.csv', index=False)"
   ]
  }
 ],
 "metadata": {
  "kernelspec": {
   "display_name": "Python 3",
   "language": "python",
   "name": "python3"
  },
  "language_info": {
   "codemirror_mode": {
    "name": "ipython",
    "version": 3
   },
   "file_extension": ".py",
   "mimetype": "text/x-python",
   "name": "python",
   "nbconvert_exporter": "python",
   "pygments_lexer": "ipython3",
   "version": "3.11.4"
  }
 },
 "nbformat": 4,
 "nbformat_minor": 2
}
