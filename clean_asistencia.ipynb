{
 "cells": [
  {
   "cell_type": "markdown",
   "metadata": {},
   "source": [
    "# Limpieza de datos de asistencia escolar\n",
    "\n",
    "En este cuaderno de Jupyter, se limpiará los datos ligados a la asistencia escolar en Chile.\n",
    "\n",
    "El conjunto de datos utilizado en este análisis se encuentra en el archivo \"Asistencia.csv\", el cual contiene información sobre la asistencia de los estudiantes en diferentes escuelas de Chile. El conjunto de datos incluye información sobre el mes escolar, el RBD de la escuela, el RUN del alumno, el género del alumno, la fecha de nacimiento del alumno, la comuna del alumno, los días asistidos, los días trabajados y la asistencia promedio."
   ]
  },
  {
   "cell_type": "markdown",
   "metadata": {},
   "source": [
    "## 1. Importación de librerías\n",
    "A continuación se importarán las librerías que se utilizarán en este cuaderno de Jupyter."
   ]
  },
  {
   "cell_type": "code",
   "execution_count": 49,
   "metadata": {},
   "outputs": [],
   "source": [
    "import pandas as pd"
   ]
  },
  {
   "cell_type": "markdown",
   "metadata": {},
   "source": [
    "## 2. Carga de datos\n",
    "A continuación se cargará el conjunto de datos que se utilizará en este cuaderno de Jupyter."
   ]
  },
  {
   "cell_type": "code",
   "execution_count": 50,
   "metadata": {},
   "outputs": [],
   "source": [
    "data_path = 'data/Asistencia.csv'\n",
    "df = pd.read_csv(data_path, sep=';')"
   ]
  },
  {
   "cell_type": "markdown",
   "metadata": {},
   "source": [
    "### 2.1 Columnas a utilizar\n",
    "Las columnas que utilizaremos en este cuaderno de Jupyter son las siguientes:\n",
    "- 'MES_ESCOLAR': Mes escolar\n",
    "- 'RBD': RBD de la escuela\n",
    "- 'MRUN': RUN del alumno\n",
    "- 'GEN_ALU': Género del alumno\n",
    "- 'FEC_NAC_ALU': Fecha de nacimiento del alumno\n",
    "- 'NOM_COM_ALU': Nombre de la comuna del alumno\n",
    "- 'COD_ENSE2': Código de enseñanza agrupados\n",
    "- 'DIA_ASISISTIDOS': Días asistidos\n",
    "- 'DIA_TRABAJADOS': Días trabajados\n",
    "- 'ASIS_PROMEDIO': Asistencia promedio"
   ]
  },
  {
   "cell_type": "code",
   "execution_count": 51,
   "metadata": {},
   "outputs": [],
   "source": [
    "# Mantiene las columnas que se encuentran en la lista\n",
    "columns = ['MES_ESCOLAR', 'RBD', 'MRUN', 'GEN_ALU', 'FEC_NAC_ALU', 'NOM_COM_ALU', 'COD_ENSE2', 'DIAS_ASISTIDOS', 'DIAS_TRABAJADOS', 'ASIS_PROMEDIO']\n",
    "df = df[columns]"
   ]
  },
  {
   "cell_type": "code",
   "execution_count": 52,
   "metadata": {},
   "outputs": [
    {
     "name": "stdout",
     "output_type": "stream",
     "text": [
      "<class 'pandas.core.frame.DataFrame'>\n",
      "RangeIndex: 3617236 entries, 0 to 3617235\n",
      "Data columns (total 10 columns):\n",
      " #   Column           Dtype \n",
      "---  ------           ----- \n",
      " 0   MES_ESCOLAR      int64 \n",
      " 1   RBD              int64 \n",
      " 2   MRUN             int64 \n",
      " 3   GEN_ALU          int64 \n",
      " 4   FEC_NAC_ALU      int64 \n",
      " 5   NOM_COM_ALU      object\n",
      " 6   COD_ENSE2        int64 \n",
      " 7   DIAS_ASISTIDOS   int64 \n",
      " 8   DIAS_TRABAJADOS  int64 \n",
      " 9   ASIS_PROMEDIO    object\n",
      "dtypes: int64(8), object(2)\n",
      "memory usage: 276.0+ MB\n"
     ]
    }
   ],
   "source": [
    "df.info()"
   ]
  },
  {
   "cell_type": "markdown",
   "metadata": {},
   "source": [
    "## 3. Limpieza de datos\n",
    "A continuación se limpiará el conjunto de datos que se utilizará en este cuaderno de Jupyter."
   ]
  },
  {
   "cell_type": "markdown",
   "metadata": {},
   "source": [
    "### 3.1 Filtro de comunas\n",
    "Primero que todo, aseguraremos que los datos se encuentren solo en las comunas de 'Copiapo' o 'Santiago'."
   ]
  },
  {
   "cell_type": "code",
   "execution_count": 53,
   "metadata": {},
   "outputs": [],
   "source": [
    "# Asegura que 'NOM_COD_ALU' sea igual a 'COPIAPÓ' o 'SANTIAGO'\n",
    "df = df[(df['NOM_COM_ALU'] == 'COPIAPÓ') | (df['NOM_COM_ALU'] == 'SANTIAGO')]"
   ]
  },
  {
   "cell_type": "markdown",
   "metadata": {},
   "source": [
    "### 3.2 Filtro de tipo de enseñanza\n",
    "A continuación, aseguraremos que los datos se encuentren solo en los tipos de enseñanza 'Educación Media Humanistíco Científica Jóvenes' o 'Educación Media Técnico Profesional y Artística, Jóvenes'."
   ]
  },
  {
   "cell_type": "code",
   "execution_count": 54,
   "metadata": {},
   "outputs": [],
   "source": [
    "# Asegura que 'COD_ENSE2' sea igual a 5 (Humanista Cientifico) o 7 (Técnico Profesional)\n",
    "df = df[(df['COD_ENSE2'] == 5) | (df['COD_ENSE2'] == 7)]"
   ]
  },
  {
   "cell_type": "markdown",
   "metadata": {},
   "source": [
    "### 3.3 Filtro de errores en los datos\n",
    "Ahora se eliminarán las filas que contengan errores o no posean sentido."
   ]
  },
  {
   "cell_type": "code",
   "execution_count": 55,
   "metadata": {},
   "outputs": [],
   "source": [
    "# Asegura que 'GEN_ALU' no sea igual a 0 (Sin información)\n",
    "df = df[df['GEN_ALU'] != 0]"
   ]
  },
  {
   "cell_type": "code",
   "execution_count": 56,
   "metadata": {},
   "outputs": [],
   "source": [
    "# Asegura que 'FEC_NAC_ALU' no sea igual a 190001 o 180001 (Sin información)\n",
    "df = df[(df['FEC_NAC_ALU'] != 190001) & (df['FEC_NAC_ALU'] != 180001)]"
   ]
  },
  {
   "cell_type": "code",
   "execution_count": 57,
   "metadata": {},
   "outputs": [],
   "source": [
    "# Asegura que 'DIAS_ASISTIDOS' sea distinto a 0 (Retirado del colegio)\n",
    "df = df[df['DIAS_ASISTIDOS'] != 0]"
   ]
  },
  {
   "cell_type": "code",
   "execution_count": 58,
   "metadata": {},
   "outputs": [],
   "source": [
    "# Asegura que 'COD_COM_ALU' sea distinto a 0 (Sin información)\n",
    "df = df[df['NOM_COM_ALU'] != 0]"
   ]
  },
  {
   "cell_type": "code",
   "execution_count": 59,
   "metadata": {},
   "outputs": [],
   "source": [
    "# Elimina del dataframe las filas que contienen valores nulos o duplicados\n",
    "df = df.dropna()\n",
    "df = df.drop_duplicates()"
   ]
  },
  {
   "cell_type": "markdown",
   "metadata": {},
   "source": [
    "### 3.4 Asegurando el correcto tipo de datos\n",
    "Ahora aseguraremos que los datos se encuentren en el tipo de datos correcto"
   ]
  },
  {
   "cell_type": "code",
   "execution_count": 60,
   "metadata": {},
   "outputs": [
    {
     "name": "stdout",
     "output_type": "stream",
     "text": [
      "<class 'pandas.core.frame.DataFrame'>\n",
      "Int64Index: 23326 entries, 119 to 3613116\n",
      "Data columns (total 10 columns):\n",
      " #   Column           Non-Null Count  Dtype \n",
      "---  ------           --------------  ----- \n",
      " 0   MES_ESCOLAR      23326 non-null  int64 \n",
      " 1   RBD              23326 non-null  int64 \n",
      " 2   MRUN             23326 non-null  int64 \n",
      " 3   GEN_ALU          23326 non-null  int64 \n",
      " 4   FEC_NAC_ALU      23326 non-null  int64 \n",
      " 5   NOM_COM_ALU      23326 non-null  object\n",
      " 6   COD_ENSE2        23326 non-null  int64 \n",
      " 7   DIAS_ASISTIDOS   23326 non-null  int64 \n",
      " 8   DIAS_TRABAJADOS  23326 non-null  int64 \n",
      " 9   ASIS_PROMEDIO    23326 non-null  object\n",
      "dtypes: int64(8), object(2)\n",
      "memory usage: 2.0+ MB\n"
     ]
    }
   ],
   "source": [
    "# Aseguramos que el tipo de datos correcto para todas las columnas\n",
    "df.info()"
   ]
  },
  {
   "cell_type": "code",
   "execution_count": 61,
   "metadata": {},
   "outputs": [],
   "source": [
    "# Cambiand el tipo de dato de 'ASIS_PROMEDIO' a float\n",
    "# Por ejemplo \",0\" pasará a ser 0.0\n",
    "df['ASIS_PROMEDIO'] = df['ASIS_PROMEDIO'].apply(lambda x: x.replace(',', '.')).astype(float)"
   ]
  },
  {
   "cell_type": "markdown",
   "metadata": {},
   "source": [
    "## 4. Cambio de nombre de columnas\n",
    "A continuación se cambiará el nombre de las columnas del conjunto de datos."
   ]
  },
  {
   "cell_type": "code",
   "execution_count": 62,
   "metadata": {},
   "outputs": [],
   "source": [
    "# Renombra las columnas del dataframe\n",
    "df.rename(columns={'MES_ESCOLAR': 'MES', 'RBD': 'RBD', 'MRUN': 'RUN_ALUMNO', 'GEN_ALU': 'GENERO_ALUMNO', 'FEC_NAC_ALU': 'FECHA_NACIMIENTO_ALUMNO', 'COD_COM_ALU': 'CODIGO_COMUNA_ALUMNO', 'NOM_COM_ALU': 'NOMBRE_COMUNA_ALUMNO', 'DIAS_ASISTIDOS': 'DIAS_ASISTIDOS', 'DIAS_TRABAJADOS': 'DIAS_TRABAJADOS', 'ASIS_PROMEDIO': 'ASISTENCIA_PROMEDIO'}, inplace=True)\n"
   ]
  },
  {
   "cell_type": "markdown",
   "metadata": {},
   "source": [
    "## 5. Exportación de datos\n",
    "Finalmente, se exportará el conjunto de datos limpio a un archivo csv."
   ]
  },
  {
   "cell_type": "code",
   "execution_count": 63,
   "metadata": {},
   "outputs": [],
   "source": [
    "# Export data\n",
    "df.to_csv('output_data/asistencia.csv', index=False)"
   ]
  }
 ],
 "metadata": {
  "kernelspec": {
   "display_name": "Python 3",
   "language": "python",
   "name": "python3"
  },
  "language_info": {
   "codemirror_mode": {
    "name": "ipython",
    "version": 3
   },
   "file_extension": ".py",
   "mimetype": "text/x-python",
   "name": "python",
   "nbconvert_exporter": "python",
   "pygments_lexer": "ipython3",
   "version": "3.11.6"
  }
 },
 "nbformat": 4,
 "nbformat_minor": 2
}
